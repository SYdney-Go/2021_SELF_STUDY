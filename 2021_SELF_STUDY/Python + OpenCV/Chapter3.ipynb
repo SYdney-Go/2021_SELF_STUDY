{
 "cells": [
  {
   "cell_type": "markdown",
   "source": [
    "# Numpy\n",
    "* 흑백 이미지는 2차원의 넘파이 배열로, RGB 이미지는 3차원의 넘파이 배열로 표현할 수 있다."
   ],
   "metadata": {}
  },
  {
   "cell_type": "code",
   "execution_count": 1,
   "source": [
    "import cv2\n",
    "import numpy as np\n",
    "\n",
    "img = np.zeros((120, 120), dtype=np.uint8)\n",
    "\n",
    "img[25:35, :] = 45\n",
    "img[55:65, :] = 115\n",
    "img[85:95, :] = 160\n",
    "img[:, 35:45] = 205\n",
    "img[:, 75:85] = 255\n",
    "cv2.imshow('Gray', img)\n",
    "cv2.waitKey(0)\n",
    "cv2.destroyAllWindows()"
   ],
   "outputs": [],
   "metadata": {}
  },
  {
   "cell_type": "code",
   "execution_count": null,
   "source": [],
   "outputs": [],
   "metadata": {}
  }
 ],
 "metadata": {
  "orig_nbformat": 4,
  "language_info": {
   "name": "python",
   "version": "3.8.10",
   "mimetype": "text/x-python",
   "codemirror_mode": {
    "name": "ipython",
    "version": 3
   },
   "pygments_lexer": "ipython3",
   "nbconvert_exporter": "python",
   "file_extension": ".py"
  },
  "kernelspec": {
   "name": "python3",
   "display_name": "Python 3.8.10 64-bit ('jupyter': virtualenv)"
  },
  "interpreter": {
   "hash": "dbc4d67c486c8529ccab8645044d83be214319cefe5619226d22e06c4885e26d"
  }
 },
 "nbformat": 4,
 "nbformat_minor": 2
}