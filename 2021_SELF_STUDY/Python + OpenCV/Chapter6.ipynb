{
 "cells": [
  {
   "cell_type": "markdown",
   "source": [
    "# 영상 필터링\n",
    "### 1. 컨볼루션과 블러링"
   ],
   "metadata": {}
  },
  {
   "cell_type": "markdown",
   "source": [
    "#### (1) 평균 블러링"
   ],
   "metadata": {}
  },
  {
   "cell_type": "code",
   "execution_count": 4,
   "source": [
    "### 평균 필터를 생성하여 블러 적용\n",
    "import numpy as np\n",
    "import cv2\n",
    "\n",
    "# 이미지 불러오기\n",
    "img = cv2.imread('./picture/girl.jpg')\n",
    "\n",
    "# 1을 25로 나눈 커널 생성하기\n",
    "kernel = np.array([[0.04, 0.04, 0.04, 0.04, 0.04],\n",
    "                   [0.04, 0.04, 0.04, 0.04, 0.04],\n",
    "                   [0.04, 0.04, 0.04, 0.04, 0.04],\n",
    "                   [0.04, 0.04, 0.04, 0.04, 0.04],\n",
    "                   [0.04, 0.04, 0.04, 0.04, 0.04]])\n",
    "\n",
    "# 5X5 평균 필터 커널 생성\n",
    "kernel = np.ones((5, 5)) / 5 ** 2\n",
    "\n",
    "# 필터를 컨볼루션 연산으로 적용하기\n",
    "blured = cv2.filter2D(img, -1, kernel)\n",
    "\n",
    "# 결과 출력\n",
    "cv2.imshow('origin', img)\n",
    "cv2.imshow('avrg blur', blured)\n",
    "cv2.waitKey(0)\n",
    "cv2.destroyAllWindows()"
   ],
   "outputs": [],
   "metadata": {}
  },
  {
   "cell_type": "code",
   "execution_count": 6,
   "source": [
    "### 블러 전용 함수로 블러링 적용\n",
    "import numpy as np\n",
    "import cv2\n",
    "\n",
    "# 이미지 불러오기\n",
    "file_name = './picture/taekwonv1.jpg'\n",
    "img = cv2.imread(file_name)\n",
    "\n",
    "# blur 함수 = 이미지, 커널 크기\n",
    "blur1 = cv2.blur(img, (10, 10))\n",
    "# boxFilter 함수 = 이미지, 출력 영상의 dtype으로 -1이면 입력 영상과 동일, 커널 크기\n",
    "blur2 = cv2.boxFilter(img, -1, (10, 10))\n",
    "\n",
    "# 결과 numpy를 가로로 한줄로 정리해서 한번에 결과 확인하기\n",
    "merged = np.hstack((img, blur1, blur2))\n",
    "cv2.imshow('blur', merged)\n",
    "cv2.waitKey(0)\n",
    "cv2.destroyAllWindows()"
   ],
   "outputs": [],
   "metadata": {}
  },
  {
   "cell_type": "markdown",
   "source": [
    "#### (2) 가우시안 블러링"
   ],
   "metadata": {}
  },
  {
   "cell_type": "code",
   "execution_count": 9,
   "source": [
    "### 가우시안 블러링\n",
    "import numpy as np\n",
    "import cv2\n",
    "\n",
    "# 이미지 불러오기\n",
    "img = cv2.imread('./picture/gaussian_noise.jpg')\n",
    "\n",
    "# 가우시안 커널을 직접 생성하기\n",
    "k1 = np.array([[1, 2, 1],\n",
    "               [2, 4, 2],\n",
    "               [1, 2, 1]]) * (1/16)\n",
    "\n",
    "# 만든 가우시안 커널로 블러링 연산하기\n",
    "blur1 = cv2.filter2D(img, -1, k1)\n",
    "\n",
    "# 가우시안 커널을 API로 얻어서 블러링하기\n",
    "k2 = cv2.getGaussianKernel(3, 0) # 반환값이 1차원이므로 2차원으로 연산하여 사용해야한다.\n",
    "blur2 = cv2.filter2D(img, -1, k2*k2.T)\n",
    "\n",
    "# 가우시안 블러 API로 블러링하기\n",
    "blur3 = cv2.GaussianBlur(img, (3, 3), 0)\n",
    "\n",
    "# 가우시안 필터 보기 = 둘의 연산이 똑같다!\n",
    "print('k1:', k1)\n",
    "print('k2:', k2*k2.T)\n",
    "\n",
    "merged = np.hstack((img, blur1, blur2, blur3))\n",
    "cv2.imshow('gaussian blur', merged)\n",
    "cv2.waitKey(0)\n",
    "cv2.destroyAllWindows()"
   ],
   "outputs": [
    {
     "output_type": "stream",
     "name": "stdout",
     "text": [
      "k1: [[0.0625 0.125  0.0625]\n",
      " [0.125  0.25   0.125 ]\n",
      " [0.0625 0.125  0.0625]]\n",
      "k2: [[0.0625 0.125  0.0625]\n",
      " [0.125  0.25   0.125 ]\n",
      " [0.0625 0.125  0.0625]]\n"
     ]
    }
   ],
   "metadata": {}
  },
  {
   "cell_type": "markdown",
   "source": [
    "#### (3) 미디언(중간값) 블러링"
   ],
   "metadata": {}
  },
  {
   "cell_type": "code",
   "execution_count": 10,
   "source": [
    "import cv2\n",
    "import numpy as np\n",
    "\n",
    "# 이미지 불러오기\n",
    "img = cv2.imread('./picture/salt_pepper_noise.jpg')\n",
    "\n",
    "# 기존의 값 중 하나로 필터를 만들기\n",
    "blur = cv2.medianBlur(img, 5)\n",
    "\n",
    "# 결과 출력\n",
    "merged = np.hstack((img, blur))\n",
    "cv2.imshow('media', merged)\n",
    "cv2.waitKey(0)\n",
    "cv2.destroyAllWindows()"
   ],
   "outputs": [],
   "metadata": {}
  },
  {
   "cell_type": "markdown",
   "source": [
    "#### (4) 바이레터럴 필터"
   ],
   "metadata": {}
  },
  {
   "cell_type": "code",
   "execution_count": 11,
   "source": [
    "import numpy as np\n",
    "import cv2\n",
    "\n",
    "# 이미지 불러오기\n",
    "img = cv2.imread('./picture/gaussian_noise.jpg')\n",
    "\n",
    "# 가우시안 필터 = 이미지, 커널 크기, 표준편차(0을 고르면 알아서)\n",
    "blur1 = cv2.GaussianBlur(img, (5, 5), 0)\n",
    "# 바이레터럴 필터 = 이미지, 필터의 직경, [색공간 필터의 시그마 값, 좌표 공간의 시그마값] 둘이 같은 값을 권장\n",
    "blur2 = cv2.bilateralFilter(img, 5, 75, 75)\n",
    "\n",
    "# 결과 ㅜㄹ력\n",
    "merged = np.hstack((img, blur1, blur2))\n",
    "cv2.imshow('bilateral', merged)\n",
    "cv2.waitKey(0)\n",
    "cv2.destroyAllWindows()"
   ],
   "outputs": [],
   "metadata": {}
  },
  {
   "cell_type": "markdown",
   "source": [
    "## 2. 경계 검출"
   ],
   "metadata": {}
  },
  {
   "cell_type": "code",
   "execution_count": 15,
   "source": [
    "### 미분 커널로 경계 검출\n",
    "import numpy as np\n",
    "import cv2\n",
    "\n",
    "# 이미지 불러오기\n",
    "img = cv2.imread('./picture/sudoku.jpg')\n",
    "\n",
    "# 이미지의 미분 연산을 컨볼루션 커널로 바꾸기\n",
    "gx_kernel = np.array([[-1, 1]])\n",
    "gy_kernel = np.array([[-1], [1]])\n",
    "\n",
    "# 위에서 만든 미분 커널의 적용\n",
    "edge_gx = cv2.filter2D(img, -1, gx_kernel)\n",
    "edge_gy = cv2.filter2D(img, -1, gy_kernel)\n",
    "\n",
    "# 결과 출력\n",
    "merged = np.hstack((img, edge_gx, edge_gy))\n",
    "cv2.imshow('edge', merged)\n",
    "cv2.waitKey(0)\n",
    "cv2.destroyAllWindows()"
   ],
   "outputs": [],
   "metadata": {}
  },
  {
   "cell_type": "code",
   "execution_count": 17,
   "source": [
    "### 로버츠 교차 필터 = 기본 미분 개념 + 사선 검출 효과 증가\n",
    "import numpy as np\n",
    "import cv2\n",
    "\n",
    "# 이미지 불러오기\n",
    "img = cv2.imread('./picture/sudoku.jpg')\n",
    "\n",
    "# 커널 적용\n",
    "gx_kernel = np.array([[1, 0], [0, -1]])\n",
    "gy_kernel = np.array([[0, 1], [-1, 0]])\n",
    "\n",
    "# 위에서 만든 커널을 적용하기\n",
    "edge_gx = cv2.filter2D(img, -1, gx_kernel)\n",
    "edge_gy = cv2.filter2D(img, -1, gy_kernel)\n",
    "\n",
    "# 결과 출력\n",
    "merged = np.hstack((img, edge_gx, edge_gy, edge_gx+edge_gy))\n",
    "cv2.imshow('roburt cross', merged)\n",
    "cv2.waitKey(0)\n",
    "cv2.destroyAllWindows()"
   ],
   "outputs": [],
   "metadata": {}
  },
  {
   "cell_type": "code",
   "execution_count": 18,
   "source": [
    "### 프리윗 필터 = 엣지 강도 강함, 대각선 검출 약함\n",
    "import numpy as np\n",
    "import cv2\n",
    "\n",
    "# 이미지 불러내기\n",
    "file_name = './picture/sudoku.jpg'\n",
    "img = cv2.imread(file_name)\n",
    "\n",
    "# 프리윗 커널 생성\n",
    "gx_k = np.array([[-1,0,1],\n",
    "                 [-1,0,1],\n",
    "                 [-1,0,1]])\n",
    "gy_k = np.array([[-1,-1,-1],\n",
    "                 [0,0,0],\n",
    "                 [1,1,1]])\n",
    "\n",
    "# 프리윗 커널 필터의 적용\n",
    "edge_gx = cv2.filter2D(img, -1, gx_k)\n",
    "edge_gy = cv2.filter2D(img, -1, gy_k)\n",
    "\n",
    "# 결과 출력\n",
    "merged = np.hstack((img, edge_gx, edge_gy, edge_gx+edge_gy))\n",
    "cv2.imshow('prewitt cross', merged)\n",
    "cv2.waitKey(0)\n",
    "cv2.destroyAllWindows()"
   ],
   "outputs": [],
   "metadata": {}
  },
  {
   "cell_type": "code",
   "execution_count": 19,
   "source": [
    "### 소벨 필터 : 중심 픽셀의 차분 비중을 두배로 준다 → 아주 강력한 함수\n",
    "import cv2\n",
    "import numpy as np\n",
    "\n",
    "# 이미지 불러오기\n",
    "img = cv2.imread('./picture/sudoku.jpg')\n",
    "\n",
    "# 소벨 커널을 직접 생성하기\n",
    "gx_k = np.array([[-1, 0, 1], [-2, 0, 2], [-1, 0, 1]])\n",
    "gy_k = np.array([[-1, -2, -1], [0, 0, 0], [1, 2, 1]])\n",
    "\n",
    "# 만든 소벨 필터의 적용\n",
    "edge_gx = cv2.filter2D(img, -1, gx_k)\n",
    "edge_gy = cv2.filter2D(img, -1, gy_k)\n",
    "\n",
    "# 소벨 API로 경계 검출 = 이미지, 출력 영상의 dtype, 미분차수 (dx, dy 둘다 0일수 없음), 커널 사이즈\n",
    "sobelx = cv2.Sobel(img, -1, 1, 0, ksize=3)\n",
    "sobely = cv2.Sobel(img, -1, 0, 1, ksize=3)\n",
    "\n",
    "# 결과 출력\n",
    "merged1 = np.hstack((img, edge_gx, edge_gy, edge_gx+edge_gy))\n",
    "merged2 = np.hstack((img, sobelx, sobely, sobelx+sobely))\n",
    "merged = np.vstack((merged1, merged2))\n",
    "cv2.imshow('sobel', merged)\n",
    "cv2.waitKey(0)\n",
    "cv2.destroyAllWindows()"
   ],
   "outputs": [],
   "metadata": {}
  },
  {
   "cell_type": "code",
   "execution_count": 20,
   "source": [
    "### 샤르 필터 = 중심에서 멀어져도 정확도를 유지\n",
    "import numpy as np\n",
    "import cv2\n",
    "\n",
    "# 이미지 불러오기\n",
    "img = cv2.imread('./picture/sudoku.jpg')\n",
    "\n",
    "# 샤르 필터 직접 만들어보기\n",
    "gx_k = np.array([[-3, 0, 3], [-10, 0, 10], [-3, 0, 3]])\n",
    "gy_k = np.array([[-3, -10, -3], [0, 0, 0], [3, 10, 3]])\n",
    "# 샤르 필터 적용\n",
    "edge_gx = cv2.filter2D(img, -1, gx_k)\n",
    "edge_gy = cv2.filter2D(img, -1, gy_k)\n",
    "\n",
    "# 샤르 API로 경계 검출하기\n",
    "scharrx = cv2.Scharr(img, -1, 1, 0)\n",
    "scharry = cv2.Scharr(img, -1, 0, 1)\n",
    "\n",
    "# 결과 출력하기\n",
    "merged1 = np.hstack((img, edge_gx, edge_gy))\n",
    "merged2 = np.hstack((img, scharrx, scharry))\n",
    "merged = np.vstack((merged1, merged2))\n",
    "cv2.imshow('Scharr', merged)\n",
    "cv2.waitKey(0)\n",
    "cv2.destroyAllWindows()"
   ],
   "outputs": [],
   "metadata": {}
  },
  {
   "cell_type": "code",
   "execution_count": 21,
   "source": [
    "### 라플라시안 필터 = 미분 결과를 다시 미분하여 경계를 더 확실하게 검출\n",
    "import cv2\n",
    "import numpy as np\n",
    "\n",
    "# 이미지 불러오기\n",
    "img = cv2.imread('./picture/sudoku.jpg')\n",
    "\n",
    "# 라플라시안 필터 적용 = [[0, 1, 0], [1, -4, 1], [0, 1, 0]]\n",
    "edge = cv2.Laplacian(img, -1)\n",
    "\n",
    "# 결과 출력하기\n",
    "merged = np.hstack((img, edge))\n",
    "cv2.imshow('Laplacian', merged)\n",
    "cv2.waitKey(0)\n",
    "cv2.destroyAllWindows()"
   ],
   "outputs": [],
   "metadata": {}
  },
  {
   "cell_type": "code",
   "execution_count": 22,
   "source": [
    "### 캐니 엣지 = 1.노이즈 제거(가우시아 블러링) 2.엣지 그레디언트 방향 계산(소벨) 3. 비최대치 억제 4. 이력 스레시홀딩\n",
    "import cv2\n",
    "import numpy as np\n",
    "\n",
    "# 이미지 불러오기\n",
    "img = cv2.imread('./picture/sudoku.jpg')\n",
    "\n",
    "# 캐니 엣지 적용 = 이미지, 이력 스레시 홀딩에 사용할 최소값, 최대값\n",
    "edges = cv2.Canny(img, 100, 200)\n",
    "\n",
    "cv2.imshow('Original', img)\n",
    "cv2.imshow('Canny', edges)\n",
    "cv2.waitKey(0)\n",
    "cv2.destroyAllWindows()"
   ],
   "outputs": [],
   "metadata": {}
  },
  {
   "cell_type": "markdown",
   "source": [
    "## 3. 모폴로지\n",
    "#### (1) 침식 연산"
   ],
   "metadata": {}
  },
  {
   "cell_type": "code",
   "execution_count": 23,
   "source": [
    "### 침식 연산 = 작은 물체 삭제, 큰 물체는 작게\n",
    "import numpy as np\n",
    "import cv2\n",
    "\n",
    "# 이미지 불러오기\n",
    "img = cv2.imread('./picture/morph_dot.png')\n",
    "\n",
    "# 구조화 요소 커널 = 3X3의 사각형 커널\n",
    "k = cv2.getStructuringElement(cv2.MORPH_RECT, (3, 3))\n",
    "\n",
    "# 침식 연산 작용\n",
    "erosion = cv2.erode(img, k)\n",
    "\n",
    "# 결과 출력\n",
    "merged = np.hstack((img, erosion))\n",
    "cv2.imshow('Erode', merged)\n",
    "cv2.waitKey(0)\n",
    "cv2.destroyAllWindows()"
   ],
   "outputs": [],
   "metadata": {}
  },
  {
   "cell_type": "markdown",
   "source": [
    "#### (2) 팽창 연산"
   ],
   "metadata": {}
  },
  {
   "cell_type": "code",
   "execution_count": 24,
   "source": [
    "### 팽창 연산 = 침식의 반대 작용, 큰 물체를 너 크게 확장\n",
    "import numpy as np\n",
    "import cv2\n",
    "\n",
    "# 이미지 불러내기\n",
    "img = cv2.imread('./picture/morph_hole.png')\n",
    "\n",
    "# 구조화 요소 = 이번에도 3x3의 사각형 커널\n",
    "k = cv2.getStructuringElement(cv2.MORPH_RECT, (3, 3))\n",
    "# 만든 커널로 팽창 연산 작용\n",
    "dst = cv2.dilate(img, k)\n",
    "\n",
    "# 결과 출력\n",
    "merged = np.hstack((img, dst))\n",
    "cv2.imshow('Dilation', merged)\n",
    "cv2.waitKey(0)\n",
    "cv2.destroyAllWindows()"
   ],
   "outputs": [],
   "metadata": {}
  },
  {
   "cell_type": "markdown",
   "source": [
    "#### (3) 열림과 닫힘 연산\n",
    "* 열림 : 침식 → 팽창\n",
    "* 닫힘 : 팽창 → 침식"
   ],
   "metadata": {}
  },
  {
   "cell_type": "code",
   "execution_count": 25,
   "source": [
    "import cv2\n",
    "import numpy as np\n",
    "\n",
    "# 이미지 불러내기\n",
    "img1 = cv2.imread('./picture/morph_dot.png', cv2.IMREAD_GRAYSCALE)\n",
    "img2 = cv2.imread('./picture/morph_hole.png', cv2.IMREAD_GRAYSCALE)\n",
    "\n",
    "# 사용할 커널 고르기 = 5x5의 사각형 커널\n",
    "k = cv2.getStructuringElement(cv2.MORPH_RECT, (5, 5))\n",
    "# 위의 커널로 open과 close 연산 진행\n",
    "opening = cv2.morphologyEx(img1, cv2.MORPH_OPEN, k)\n",
    "closing = cv2.morphologyEx(img2, cv2.MORPH_CLOSE, k)\n",
    "\n",
    "# 결과 출력\n",
    "merged1 = np.hstack((img1, opening))\n",
    "merged2 = np.hstack((img2, closing))\n",
    "merged3 = np.vstack((merged1, merged2))\n",
    "cv2.imshow('opening, closing', merged3)\n",
    "cv2.waitKey(0)\n",
    "cv2.destroyAllWindows()"
   ],
   "outputs": [],
   "metadata": {}
  },
  {
   "cell_type": "code",
   "execution_count": 28,
   "source": [
    "### 모폴로지 그레디언트\n",
    "import numpy as np\n",
    "import cv2\n",
    "\n",
    "# 이미지 불러내기\n",
    "img = cv2.imread('./picture//morphological.png')\n",
    "\n",
    "# 구조화 요소 커널 고르기 = 3x3의 사각형\n",
    "k = cv2.getStructuringElement(cv2.MORPH_RECT, (3, 3))\n",
    "\n",
    "# 모폴로지 그레이디언트 연산 = 경계 검출\n",
    "gradient = cv2.morphologyEx(img, cv2.MORPH_GRADIENT, k)\n",
    "\n",
    "merged = np.hstack((img, gradient))\n",
    "cv2.imshow('gradient', merged)\n",
    "cv2.waitKey(0)\n",
    "cv2.destroyAllWindows()"
   ],
   "outputs": [],
   "metadata": {}
  },
  {
   "cell_type": "code",
   "execution_count": 31,
   "source": [
    "### 모폴로지 그레디언트\n",
    "import numpy as np\n",
    "import cv2\n",
    "\n",
    "# 이미지 불러오기\n",
    "img = cv2.imread('./picture/moon_gray.jpg')\n",
    "\n",
    "# 구조화 요소 커널 고르기 = 9x9의 사각형\n",
    "k = cv2.getStructuringElement(cv2.MORPH_RECT, (9, 9))\n",
    "# tophat = 원본 - open\n",
    "tophat = cv2.morphologyEx(img, cv2.MORPH_TOPHAT, k)\n",
    "# blackhat = 원본 - close\n",
    "blackhat = cv2.morphologyEx(img, cv2.MORPH_BLACKHAT, k)\n",
    "\n",
    "merged = np.hstack((img, tophat, blackhat))\n",
    "cv2.imshow('tophat blackhat', merged)\n",
    "cv2.waitKey(0)\n",
    "cv2.destroyAllWindows()"
   ],
   "outputs": [],
   "metadata": {}
  },
  {
   "cell_type": "markdown",
   "source": [
    "## 4. 이미지 피라미드\n",
    "* 이미지의 크기를 단계적으로 축소 또는 확새해서 피라미드처럼 쌓는 것"
   ],
   "metadata": {}
  },
  {
   "cell_type": "code",
   "execution_count": 32,
   "source": [
    "### 가우시안 피라미드 = 가우시안 필터 적용 → 이미지 피라미드 구현\n",
    "import cv2\n",
    "\n",
    "# 이미지 불러내기\n",
    "img = cv2.imread('./picture/girl.jpg')\n",
    "\n",
    "# 가우시안 이미지 피라미드 축소 = 가우시안 필터 적용 → 모든 짝수행과 열을 삭제 → 크기 1/4\n",
    "smaller = cv2.pyrDown(img)\n",
    "# 가우시안 이미지 피라미드 확대 = 짝수행과 열을 0으로 새롭게 채워준다 → 가우시안 필터로 주변 인자와 비슷하게 만들기 → 크기 4배 확대\n",
    "bigger = cv2.pyrUp(img)\n",
    "\n",
    "# 결과 출력\n",
    "cv2.imshow('img', img)\n",
    "cv2.imshow('pyrDown', smaller)\n",
    "cv2.imshow('pyrUp', bigger)\n",
    "cv2.waitKey(0)\n",
    "cv2.destroyAllWindows()"
   ],
   "outputs": [],
   "metadata": {}
  },
  {
   "cell_type": "code",
   "execution_count": 34,
   "source": [
    "### 라플라시안 피라미드 = pyrUp 함수를 적용한 영상의 차이를 단계별로 모아두는 것\n",
    "import cv2\n",
    "import numpy as np\n",
    "\n",
    "# 이미지 불러내기\n",
    "img = cv2.imread('./picture/taekwonv1.jpg')\n",
    "\n",
    "# 원본 이미지를 줄이기\n",
    "smaller = cv2.pyrDown(img)\n",
    "# 줄어든 이미지를 다시 pyrUp으로 원상복구 해보기\n",
    "bigger = cv2.pyrUp(smaller)\n",
    "\n",
    "# 실제 원본과 줄어들었다가 커진 이미지 사이의 차이점 비교하기\n",
    "laplacian = cv2.subtract(img, bigger)\n",
    "# 커진 이미지에 원본과 커진 이미지 사이의 갭을 더해서 복원하기\n",
    "restored = bigger + laplacian\n",
    "\n",
    "merged = np.hstack((img, laplacian, bigger, restored))\n",
    "cv2.imshow('Laplacian Pyramid', merged)\n",
    "cv2.waitKey(0)\n",
    "cv2.destroyAllWindows()"
   ],
   "outputs": [],
   "metadata": {}
  }
 ],
 "metadata": {
  "orig_nbformat": 4,
  "language_info": {
   "name": "python",
   "version": "3.8.10",
   "mimetype": "text/x-python",
   "codemirror_mode": {
    "name": "ipython",
    "version": 3
   },
   "pygments_lexer": "ipython3",
   "nbconvert_exporter": "python",
   "file_extension": ".py"
  },
  "kernelspec": {
   "name": "python3",
   "display_name": "Python 3.8.10 64-bit ('jupyter': virtualenv)"
  },
  "interpreter": {
   "hash": "dbc4d67c486c8529ccab8645044d83be214319cefe5619226d22e06c4885e26d"
  }
 },
 "nbformat": 4,
 "nbformat_minor": 2
}