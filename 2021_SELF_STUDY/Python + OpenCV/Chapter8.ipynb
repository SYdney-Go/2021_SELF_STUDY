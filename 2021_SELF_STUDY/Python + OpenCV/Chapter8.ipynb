{
 "cells": [
  {
   "cell_type": "markdown",
   "source": [
    "# 영상 매칭과 추적\n",
    "## 1. 비슷한 그림 찾기 : 영상 전체의 비교"
   ],
   "metadata": {}
  },
  {
   "cell_type": "code",
   "execution_count": 2,
   "source": [
    "### 평균 해시로 변환 = 영상을 특정 크기로 축소 → 전체의 평균값을 구해서 각 픽셀이 평균보다 작은지 큰지 구분하는 이진수 수로 만들기\n",
    "import cv2\n",
    "\n",
    "# 이미지 불러오기\n",
    "img = cv2.imread('./picture/pistol.jpg')\n",
    "# 이미지 그레이 스케일로 변환\n",
    "gray = cv2.cvtColor(img, cv2.COLOR_BGR2GRAY)\n",
    "\n",
    "# 이미지 16x16으로 사이즈 변경\n",
    "gray = cv2.resize(gray, (16, 16))\n",
    "# 이미지 전체의 평균 구하기\n",
    "avg = gray.mean()\n",
    "# 이미지의 픽셀값이 크면 1을 대입\n",
    "bin = 1 * (gray > avg)\n",
    "print(bin)\n",
    "\n",
    "# 2진수 문자열을 16진수 문자열로 변환\n",
    "dhash = []\n",
    "for row in bin.tolist():\n",
    "    s = ''.join([str(i) for i in row])\n",
    "    dhash.append('%02x'%(int(s, 2)))\n",
    "\n",
    "dhash = ''.join(dhash)\n",
    "print(dhash)\n",
    "\n",
    "cv2.imshow('pistol', img)\n",
    "cv2.waitKey(0)\n",
    "cv2.destroyAllWindows()"
   ],
   "outputs": [
    {
     "output_type": "stream",
     "name": "stdout",
     "text": [
      "[[1 1 1 1 1 1 1 1 1 1 1 1 1 1 1 1]\n",
      " [1 0 0 0 0 0 0 0 0 0 0 0 0 0 0 0]\n",
      " [1 0 0 0 0 0 0 0 0 0 0 0 0 0 0 0]\n",
      " [1 0 0 0 0 0 0 0 0 0 0 0 0 0 0 0]\n",
      " [1 0 0 0 0 0 0 0 0 0 0 0 0 0 0 0]\n",
      " [1 0 0 0 0 0 0 1 0 0 1 1 1 1 1 1]\n",
      " [1 1 0 0 0 0 0 1 1 1 1 1 1 1 1 1]\n",
      " [1 1 0 0 0 0 0 1 1 1 1 1 1 1 1 1]\n",
      " [1 1 0 0 0 0 0 0 0 1 1 1 1 1 1 1]\n",
      " [1 1 0 0 0 0 1 1 1 1 1 1 1 1 1 1]\n",
      " [1 1 0 0 0 1 1 1 1 1 1 1 1 1 1 1]\n",
      " [1 1 0 0 0 1 1 1 1 1 1 1 1 1 1 1]\n",
      " [1 0 0 0 0 1 1 1 1 1 1 1 1 1 1 1]\n",
      " [1 0 0 0 0 1 1 1 1 1 1 1 1 1 1 1]\n",
      " [1 0 0 0 0 1 1 1 1 1 1 1 1 1 1 1]\n",
      " [1 1 0 0 0 1 1 1 1 1 1 1 1 1 1 1]]\n",
      "ffff8000800080008000813fc1ffc1ffc07fc3ffc7ffc7ff87ff87ff87ffc7ff\n"
     ]
    }
   ],
   "metadata": {}
  },
  {
   "cell_type": "code",
   "execution_count": 5,
   "source": [
    "# 사물 영상 중에서 권총 영상 찾기\n",
    "import cv2\n",
    "import numpy as np\n",
    "import glob\n",
    "\n",
    "# 영상 읽기 및 표시\n",
    "img = cv2.imread('./picture/pistol.jpg')\n",
    "cv2.imshow('query', img)\n",
    "\n",
    "# 비교할 영상들이 있는 경로\n",
    "search_dir = './picture/101_ObjectCategories'\n",
    "\n",
    "# 아마자룰 16x16 크기의 평균 해시로 변환\n",
    "def img2hash(img):\n",
    "    gray = cv2.cvtColor(img, cv2.COLOR_BGR2GRAY)\n",
    "    gray = cv2.resize(gray, (16, 16))\n",
    "    avg = gray.mean()\n",
    "    bi = 1 * (gray>avg)\n",
    "    return bi\n",
    "\n",
    "# 해밍 거리 측정 함수\n",
    "def hamming_distance(a, b):\n",
    "    a = a.reshape(1, -1)\n",
    "    b = b.reshape(1, -1)\n",
    "    # 같은 자리의 값이 서로 다른 것들의 합\n",
    "    distance = (a != b).sum()\n",
    "    return distance\n",
    "\n",
    "# 권총 영상의 해시 구하기\n",
    "query_hash = img2hash(img)\n",
    "\n",
    "# 이미지 데이터셋 디렉터리의 모든 영상 파일 경로\n",
    "img_path = glob.glob(search_dir + '/**/*.jpg')\n",
    "\n",
    "# 이미지 데이터 한장한장 가지고 오기!\n",
    "for path in img_path:\n",
    "    # 데이터셋 영상 한 개를 읽어ㅓ 표시\n",
    "    img = cv2.imread(path)\n",
    "    cv2.imshow('searching...', img)\n",
    "    cv2.waitKey(5)\n",
    "    # 데이터셋 영상 한 개의 해시\n",
    "    a_hash = img2hash(img)\n",
    "    # 해밍 거리 계산 = 넣어준 이미지 한장 vs 이미지 데이터 셋에서 꺼낸 이미지 한 장\n",
    "    dst = hamming_distance(query_hash, a_hash)\n",
    "    # 만약 해밍거리가 25% 안이면 출력\n",
    "    if dst/256 < 0.25:\n",
    "        print(path, dst/256)\n",
    "        cv2.imshow(path, img)\n",
    "\n",
    "cv2.destroyWindow('searching...')\n",
    "cv2.waitKey(0)\n",
    "cv2.destroyAllWindows()"
   ],
   "outputs": [
    {
     "output_type": "stream",
     "name": "stdout",
     "text": [
      "./picture/101_ObjectCategories/BACKGROUND_Google/image_0398.jpg 0.234375\n",
      "./picture/101_ObjectCategories/revolver/image_0037.jpg 0.2421875\n",
      "./picture/101_ObjectCategories/revolver/image_0021.jpg 0.171875\n",
      "./picture/101_ObjectCategories/revolver/image_0023.jpg 0.21875\n",
      "./picture/101_ObjectCategories/revolver/image_0019.jpg 0.23828125\n",
      "./picture/101_ObjectCategories/revolver/image_0017.jpg 0.23828125\n",
      "./picture/101_ObjectCategories/revolver/image_0064.jpg 0.18359375\n",
      "./picture/101_ObjectCategories/revolver/image_0022.jpg 0.21484375\n",
      "./picture/101_ObjectCategories/revolver/image_0018.jpg 0.1953125\n",
      "./picture/101_ObjectCategories/revolver/image_0033.jpg 0.2421875\n",
      "./picture/101_ObjectCategories/revolver/image_0001.jpg 0.2421875\n",
      "./picture/101_ObjectCategories/revolver/image_0034.jpg 0.23046875\n",
      "./picture/101_ObjectCategories/revolver/image_0031.jpg 0.21875\n",
      "./picture/101_ObjectCategories/revolver/image_0068.jpg 0.24609375\n",
      "./picture/101_ObjectCategories/revolver/image_0015.jpg 0.24609375\n",
      "./picture/101_ObjectCategories/revolver/image_0081.jpg 0.23046875\n",
      "./picture/101_ObjectCategories/revolver/image_0072.jpg 0.203125\n",
      "./picture/101_ObjectCategories/binocular/image_0011.jpg 0.23828125\n",
      "./picture/101_ObjectCategories/Faces_easy/image_0419.jpg 0.2421875\n"
     ]
    }
   ],
   "metadata": {}
  },
  {
   "cell_type": "code",
   "execution_count": 12,
   "source": [
    "### 템플릿 매칭 = 물체가 있는 영상을 준비해두고 물체가 매칭되는 위치를 찾는것!\n",
    "# 따라서 템플릿(물체 이미지)는 하상 입력 영상보다 작아야함!!!!\n",
    "import numpy as np\n",
    "import cv2\n",
    "\n",
    "# 이미지 불러오기\n",
    "img = cv2.imread('./picture/figures.jpg')\n",
    "# 이미지 내에서 찾을 타겟 이미지 불러오기\n",
    "template = cv2.imread('./picture/taekwonv1.jpg')\n",
    "# 템플릿의 가로, 세로 지정\n",
    "th, tw = template.shape[:2]\n",
    "cv2.imshow('template', template)\n",
    "\n",
    "# 검출 방법 : 상관계수 매칭, 상관관계 매칭, \n",
    "methods = ['cv2.TM_CCOEFF_NORMED', 'cv2.TM_CCORR_NORMED', 'cv2.TM_SQDIFF_NORMED']\n",
    "\n",
    "# 메서드에 있는 방법과 순서를 하나씩 꺼내오기\n",
    "for i, method_name in enumerate(methods):\n",
    "    img_draw = img.copy()\n",
    "    # eval : 문자열을 식으로 실행해주는 애\n",
    "    method = eval(method_name)\n",
    "    # matchTemplate = 입력 영상에서 템플릿 영상을 찾기\n",
    "    res = cv2.matchTemplate(img, template, method)\n",
    "    # result = 이미지 크기 - 템플릿 크기 + 1 한 이차원 배열 → 여기서 최소 최대 값을 구할 수  있다.\n",
    "    min_val, max_val, min_loc, max_loc = cv2.minMaxLoc(res)\n",
    "    print(method_name, min_val, max_val, min_loc, max_loc)\n",
    "\n",
    "    # 상관계수 매칭과 제곱 차이 매칭 → 최소값이 좋은 매칭\n",
    "    if method in [cv2.TM_SQDIFF, cv2.TM_SQDIFF_NORMED]:\n",
    "        top_left = min_loc\n",
    "        match_val = min_val\n",
    "    # 그 외의 방법은 최대값이 좋은 매칭\n",
    "    else:\n",
    "        top_left = max_loc\n",
    "        match_val = max_val\n",
    "\n",
    "    # 매칭 좌표를 구해서 사각형 표시\n",
    "    bottom_right = (top_left[0] + tw, top_left[1] + th)\n",
    "    cv2.rectangle(img_draw, top_left, bottom_right, (0,0,255), 2)\n",
    "    # 매칭 포인트 표시\n",
    "    cv2.putText(img_draw, str(match_val), top_left, cv2.FONT_HERSHEY_PLAIN, 2, (0,255,0), 1, cv2.LINE_AA)\n",
    "    cv2.imshow(method_name, img_draw)\n",
    "\n",
    "cv2.waitKey(0)\n",
    "cv2.destroyAllWindows()"
   ],
   "outputs": [
    {
     "output_type": "stream",
     "name": "stdout",
     "text": [
      "cv2.TM_CCOEFF_NORMED -0.1780252307653427 0.5131933093070984 (42, 0) (208, 43)\n",
      "cv2.TM_CCORR_NORMED 0.827332615852356 0.9238022565841675 (85, 6) (208, 43)\n",
      "cv2.TM_SQDIFF_NORMED 0.17028295993804932 0.36860838532447815 (208, 43) (86, 7)\n"
     ]
    }
   ],
   "metadata": {}
  },
  {
   "cell_type": "markdown",
   "source": [
    "## 2. 영상의 특징과 키 포인트 : 지역적 특징을 표현할 수 있는 방법"
   ],
   "metadata": {}
  },
  {
   "cell_type": "code",
   "execution_count": 14,
   "source": [
    "### 코너 특징 검출\n",
    "import cv2\n",
    "import numpy as np\n",
    "\n",
    "# 이미지 불러와서 그레이 스케일로 변환\n",
    "img = cv2.imread('./picture/house.jpg')\n",
    "gray = cv2.cvtColor(img, cv2.COLOR_BGR2GRAY)\n",
    "\n",
    "# 해리스 코너 검출 : 소벨 미분으로 엣지 검출 → 엣지의 경사도 변화량 측정 → 변화량이 큰 부분이 코너\n",
    "# cornerHarris(이미지, 이웃 픽셀 번위, 소벨 미분 커널 크기, 코너 상수)\n",
    "corner = cv2.cornerHarris(gray, 2, 3, 0.04)\n",
    "# 변화량 결과의 최대값 10% 이상의 좌표 구하기\n",
    "coord = np.where(corner > 0.1*corner.max())\n",
    "coord = np.stack((coord[1], coord[0]), axis=-1)\n",
    "\n",
    "# 코너 좌표에 동그리미 그리기\n",
    "for x, y in coord:\n",
    "    cv2.circle(img, (x,y), 5, (0,0,255), 1, cv2.LINE_AA)\n",
    "\n",
    "# 변화량을 영상으로 표현하기 위해서 0~255 정규화\n",
    "corner_norm = cv2.normalize(corner, None, 0, 255, cv2.NORM_MINMAX, cv2.CV_8U)\n",
    "\n",
    "# 화면에 출력\n",
    "corner_norm = cv2.cvtColor(corner_norm, cv2.COLOR_GRAY2BGR)\n",
    "merged = np.hstack((corner_norm, img))\n",
    "cv2.imshow('Harris Corner', merged)\n",
    "cv2.waitKey()\n",
    "cv2.destroyAllWindows()"
   ],
   "outputs": [],
   "metadata": {}
  },
  {
   "cell_type": "code",
   "execution_count": 15,
   "source": [
    "### 시-토마시 코너 검출\n",
    "import cv2\n",
    "import numpy as np\n",
    "\n",
    "# 이미지 불러오기\n",
    "img = cv2.imread('./picture/house.jpg')\n",
    "gray = cv2.cvtColor(img, cv2.COLOR_BGR2GRAY)\n",
    "\n",
    "# goodFeaturesToTrack(이미지, 얻고싶은 코너 수, 스레시홀드값, 코너간 최소 거리_)\n",
    "corners = cv2.goodFeaturesToTrack(gray, 80, 0.01, 10)\n",
    "# 이때 좌표값이 실수로 되어있기 때문에 정수형으로 변환\n",
    "corners = np.int32(corners)\n",
    "\n",
    "# 코너들에 동그라미 표시하기\n",
    "for corner in corners:\n",
    "    x, y = corner[0]\n",
    "    cv2.circle(img, (x, y), 5, (0, 0, 255), 1, cv2.LINE_AA)\n",
    "\n",
    "# 이미지 보여주기\n",
    "cv2.imshow('Corners', img)\n",
    "cv2.waitKey()\n",
    "cv2.destroyAllWindows()"
   ],
   "outputs": [],
   "metadata": {}
  },
  {
   "cell_type": "code",
   "execution_count": 16,
   "source": [
    "### GFTTDetector\n",
    "import cv2\n",
    "import numpy as np\n",
    "\n",
    "# 이미지 불러오기\n",
    "img = cv2.imread('./picture/house.jpg')\n",
    "gray = cv2.cvtColor(img, cv2.COLOR_BGR2GRAY)\n",
    "\n",
    "# goodFeaturesToTrack 함수로 구현된 특징 검출기\n",
    "gftt = cv2.GFTTDetector_create()\n",
    "# 키포인트 검출 = detect(이미지)\n",
    "keypoints = gftt.detect(gray, None)\n",
    "# drawKeypoints(이미지, 키포인트 리스트, 이미지, 색상)\n",
    "img_draw = cv2.drawKeypoints(img, keypoints, None)\n",
    "\n",
    "cv2.imshow('GFTTDector', img_draw)\n",
    "cv2.waitKey(0)\n",
    "cv2.destroyAllWindows()"
   ],
   "outputs": [],
   "metadata": {}
  },
  {
   "cell_type": "code",
   "execution_count": 17,
   "source": [
    "### FAST로 키 포인트 검출 = 미분 대신 픽셀을 중심으로 특정 개수의 픽셀로 원그리기 → 특정 개수 이상 연속되면 코너\n",
    "import cv2\n",
    "import numpy as np\n",
    "\n",
    "# 이미지 불러오기\n",
    "img = cv2.imread('./picture/house.jpg')\n",
    "# 이미미 그레이 스케일로 변환\n",
    "gray = cv2.cvtColor(img, cv2.COLOR_BGR2GRAY)\n",
    "\n",
    "# FASt 특징 검출기 생성 = FastFeatureDetector()\n",
    "fast = cv2.FastFeatureDetector_create(50)\n",
    "# detect로 키포인트 검출하기\n",
    "keypoints = fast.detect(gray, None)\n",
    "# 키초인트에 원 그리기\n",
    "img = cv2.drawKeypoints(img, keypoints, None)\n",
    "\n",
    "\n",
    "cv2.imshow('Fast', img)\n",
    "cv2.waitKey(0)\n",
    "cv2.destroyAllWindows()"
   ],
   "outputs": [],
   "metadata": {}
  },
  {
   "cell_type": "code",
   "execution_count": 18,
   "source": [
    "### SimpleBlobDetector = 연결된 픽셀 그룸을 말한다! 자잘한 객체는 노이즈, 특정 크기 이상만!\n",
    "import cv2\n",
    "import numpy as np\n",
    "\n",
    "# 이미지 불러와서 그레이 스케일로 변환\n",
    "img = cv2.imread('./picture/house.jpg')\n",
    "gray = cv2.cvtColor(img, cv2.COLOR_BGR2GRAY)\n",
    "\n",
    "#  BLOB 검출기 생성자\n",
    "detector = cv2.SimpleBlobDetector_create()\n",
    "keypoints = detector.detect(gray)\n",
    "img = cv2.drawKeypoints(img, keypoints, None, (0,0,255), flags=cv2.DRAW_MATCHES_FLAGS_DRAW_RICH_KEYPOINTS)\n",
    "\n",
    "cv2.imshow('Blob', img)\n",
    "cv2.waitKey()\n",
    "cv2.destroyAllWindows()"
   ],
   "outputs": [],
   "metadata": {}
  },
  {
   "cell_type": "code",
   "execution_count": 21,
   "source": [
    "### SimpleBlobDetector + 필터 옵션\n",
    "import cv2\n",
    "import numpy as np\n",
    "\n",
    "# 이미지 불러와서 그레이스케일로 변환\n",
    "img = cv2.imread('./picture/house.jpg')\n",
    "gray = cv2.cvtColor(img, cv2.COLOR_BGR2GRAY)\n",
    "\n",
    "# BLOB 검출 필터 파라미터 생성\n",
    "params = cv2.SimpleBlobDetector_Params()\n",
    "\n",
    "# 경계값 조정 = 10부터 240까지 5씩 증가\n",
    "params.minThreshold = 10 # 최소 경계값\n",
    "params.maxThreshold = 240 # 최대 경계값\n",
    "params.thresholdStep = 5 # 증가 값\n",
    "\n",
    "# 면적 필터를 켜고 최소 값 지정\n",
    "params.filterByArea = True # 면적 필터 옵션\n",
    "params.minArea = 200 # 범위의 면적만 BLOB 검출 = 최소 200 이상은 되어야 검출\n",
    "\n",
    "# 컬러, 볼록 비율, 원형 비율 필터 옵션 끄기\n",
    "params.filterByColor = False # 밝기를 이용한 필터\n",
    "params.filterByConvexity = False # 볼록 비율 필터\n",
    "params.filterByInertia = False # 관성 비율 필터\n",
    "params.filterByCircularity = False # min-max 범위의 원형 비율만 BLOB 검출\n",
    "\n",
    "# 필터 파라미터로 BLOB 검출기 생성\n",
    "detector = cv2.SimpleBlobDetector_create(params)\n",
    "# 키 포인트 검출\n",
    "keypoints = detector.detect(gray)\n",
    "# 키 포인트 그리기\n",
    "img_draw = cv2.drawKeypoints(img, keypoints, None, None, cv2.DRAW_MATCHES_FLAGS_DRAW_RICH_KEYPOINTS)\n",
    "\n",
    "cv2.imshow('Blob with Params', img_draw)\n",
    "cv2.waitKey(0)\n",
    "cv2.destroyAllWindows()"
   ],
   "outputs": [],
   "metadata": {}
  },
  {
   "cell_type": "markdown",
   "source": [
    "## 3. 디스크립터 추출기"
   ],
   "metadata": {}
  },
  {
   "cell_type": "code",
   "execution_count": 9,
   "source": [
    "### 특징 디스크립터 = 키포인트를 매칭에 사용하기 위해 주변 픽셀을 일정한 블록으로 나누어 각 블록에 속한 픽셀의그레디언트 히스토그램을 계산한 것\n",
    "# 키포인트: 영상의 특징이 있는 픽셀의 좌표와 주변 픽셀과의 관계에 대한 정보 (size, angle)\n",
    "\n",
    "### SIFT로 키포인트 및 디스크립터 추출\n",
    "# import cv2\n",
    "# import numpy as np\n",
    "\n",
    "# img = cv2.imread('./picture/house.jpg')\n",
    "# gray= cv2.cvtColor(img, cv2.COLOR_BGR2GRAY)\n",
    "\n",
    "# sift = cv2.xfeatures2d.SIFT_create()\n",
    "# keypoints, descriptor = sift.detectAndCompute(gray, None)\n",
    "# print('keypoint:', len(keypoints), 'desciptor:', descriptor.shape)\n",
    "# print(descriptor)\n",
    "\n",
    "# img_draw = cv2.drawKeypoints(img, keypoints, None, flags=cv2.DRAW_MATCHES_FLAGS_DRAW_RICH_KEYPOINTS)\n",
    "\n",
    "# cv2.imshow('SIFT', img_draw)\n",
    "# cv2.waitKey()\n",
    "# cv2.destroyAllWindows()"
   ],
   "outputs": [],
   "metadata": {}
  },
  {
   "cell_type": "code",
   "execution_count": null,
   "source": [
    "### SURF"
   ],
   "outputs": [],
   "metadata": {}
  },
  {
   "cell_type": "code",
   "execution_count": null,
   "source": [
    "### ORB"
   ],
   "outputs": [],
   "metadata": {}
  },
  {
   "cell_type": "markdown",
   "source": [
    "## 4. 특징 매칭"
   ],
   "metadata": {}
  },
  {
   "cell_type": "code",
   "execution_count": 7,
   "source": [],
   "outputs": [
    {
     "output_type": "stream",
     "name": "stdout",
     "text": [
      "Found existing installation: opencv-python 4.5.3.56\n",
      "Uninstalling opencv-python-4.5.3.56:\n",
      "  Would remove:\n",
      "    /home/sydney/.virtualenvs/jupyter/lib/python3.8/site-packages/cv2/*\n",
      "    /home/sydney/.virtualenvs/jupyter/lib/python3.8/site-packages/opencv_python-4.5.3.56.dist-info/*\n",
      "    /home/sydney/.virtualenvs/jupyter/lib/python3.8/site-packages/opencv_python.libs/libQt5Core-d92f2856.so.5.15.0\n",
      "    /home/sydney/.virtualenvs/jupyter/lib/python3.8/site-packages/opencv_python.libs/libQt5Gui-ca084835.so.5.15.0\n",
      "    /home/sydney/.virtualenvs/jupyter/lib/python3.8/site-packages/opencv_python.libs/libQt5Test-9d4ee57e.so.5.15.0\n",
      "    /home/sydney/.virtualenvs/jupyter/lib/python3.8/site-packages/opencv_python.libs/libQt5Widgets-0e1d98b5.so.5.15.0\n",
      "    /home/sydney/.virtualenvs/jupyter/lib/python3.8/site-packages/opencv_python.libs/libQt5XcbQpa-70670cdb.so.5.15.0\n",
      "    /home/sydney/.virtualenvs/jupyter/lib/python3.8/site-packages/opencv_python.libs/libX11-xcb-1ae4fd0e.so.1.0.0\n",
      "    /home/sydney/.virtualenvs/jupyter/lib/python3.8/site-packages/opencv_python.libs/libXau-00ec42fe.so.6.0.0\n",
      "    /home/sydney/.virtualenvs/jupyter/lib/python3.8/site-packages/opencv_python.libs/libavcodec-8daa01ff.so.58.109.100\n",
      "    /home/sydney/.virtualenvs/jupyter/lib/python3.8/site-packages/opencv_python.libs/libavformat-06a336f2.so.58.61.100\n",
      "    /home/sydney/.virtualenvs/jupyter/lib/python3.8/site-packages/opencv_python.libs/libavutil-01d48d95.so.56.60.100\n",
      "    /home/sydney/.virtualenvs/jupyter/lib/python3.8/site-packages/opencv_python.libs/libbz2-a273e504.so.1.0.6\n",
      "    /home/sydney/.virtualenvs/jupyter/lib/python3.8/site-packages/opencv_python.libs/libcrypto-098682aa.so.1.1\n",
      "    /home/sydney/.virtualenvs/jupyter/lib/python3.8/site-packages/opencv_python.libs/libfreetype-8d3bcff4.so.6.14.0\n",
      "    /home/sydney/.virtualenvs/jupyter/lib/python3.8/site-packages/opencv_python.libs/libpng15-c2ffaf3d.so.15.13.0\n",
      "    /home/sydney/.virtualenvs/jupyter/lib/python3.8/site-packages/opencv_python.libs/libssl-f3db6a3b.so.1.1\n",
      "    /home/sydney/.virtualenvs/jupyter/lib/python3.8/site-packages/opencv_python.libs/libswresample-4767dc06.so.3.8.100\n",
      "    /home/sydney/.virtualenvs/jupyter/lib/python3.8/site-packages/opencv_python.libs/libswscale-2d2bce5d.so.5.8.100\n",
      "    /home/sydney/.virtualenvs/jupyter/lib/python3.8/site-packages/opencv_python.libs/libvpx-14094576.so.6.3.0\n",
      "    /home/sydney/.virtualenvs/jupyter/lib/python3.8/site-packages/opencv_python.libs/libxcb-icccm-413c9f41.so.4.0.0\n",
      "    /home/sydney/.virtualenvs/jupyter/lib/python3.8/site-packages/opencv_python.libs/libxcb-image-e82a276d.so.0.0.0\n",
      "    /home/sydney/.virtualenvs/jupyter/lib/python3.8/site-packages/opencv_python.libs/libxcb-keysyms-21015570.so.1.0.0\n",
      "    /home/sydney/.virtualenvs/jupyter/lib/python3.8/site-packages/opencv_python.libs/libxcb-randr-a96a5a87.so.0.1.0\n",
      "    /home/sydney/.virtualenvs/jupyter/lib/python3.8/site-packages/opencv_python.libs/libxcb-render-637b984a.so.0.0.0\n",
      "    /home/sydney/.virtualenvs/jupyter/lib/python3.8/site-packages/opencv_python.libs/libxcb-render-util-43ce00f5.so.0.0.0\n",
      "    /home/sydney/.virtualenvs/jupyter/lib/python3.8/site-packages/opencv_python.libs/libxcb-shape-25c2b258.so.0.0.0\n",
      "    /home/sydney/.virtualenvs/jupyter/lib/python3.8/site-packages/opencv_python.libs/libxcb-shm-7a199f70.so.0.0.0\n",
      "    /home/sydney/.virtualenvs/jupyter/lib/python3.8/site-packages/opencv_python.libs/libxcb-sync-89374f40.so.1.0.0\n",
      "    /home/sydney/.virtualenvs/jupyter/lib/python3.8/site-packages/opencv_python.libs/libxcb-util-4d666913.so.1.0.0\n",
      "    /home/sydney/.virtualenvs/jupyter/lib/python3.8/site-packages/opencv_python.libs/libxcb-xfixes-9be3ba6f.so.0.0.0\n",
      "    /home/sydney/.virtualenvs/jupyter/lib/python3.8/site-packages/opencv_python.libs/libxcb-xinerama-ae147f87.so.0.0.0\n",
      "    /home/sydney/.virtualenvs/jupyter/lib/python3.8/site-packages/opencv_python.libs/libxcb-xkb-9ba31ab3.so.1.0.0\n",
      "    /home/sydney/.virtualenvs/jupyter/lib/python3.8/site-packages/opencv_python.libs/libxkbcommon-71ae2972.so.0.0.0\n",
      "    /home/sydney/.virtualenvs/jupyter/lib/python3.8/site-packages/opencv_python.libs/libxkbcommon-x11-c65ed502.so.0.0.0\n",
      "    /home/sydney/.virtualenvs/jupyter/lib/python3.8/site-packages/opencv_python.libs/libz-d8a329de.so.1.2.7\n",
      "Proceed (y/n)? ^C\n",
      "\u001b[31mERROR: Operation cancelled by user\u001b[0m\n",
      "Note: you may need to restart the kernel to use updated packages.\n"
     ]
    }
   ],
   "metadata": {}
  },
  {
   "cell_type": "markdown",
   "source": [
    "## 5. 객체 추적"
   ],
   "metadata": {}
  },
  {
   "cell_type": "code",
   "execution_count": null,
   "source": [
    "y"
   ],
   "outputs": [],
   "metadata": {}
  },
  {
   "cell_type": "code",
   "execution_count": null,
   "source": [],
   "outputs": [],
   "metadata": {}
  }
 ],
 "metadata": {
  "orig_nbformat": 4,
  "language_info": {
   "name": "python",
   "version": "3.8.10",
   "mimetype": "text/x-python",
   "codemirror_mode": {
    "name": "ipython",
    "version": 3
   },
   "pygments_lexer": "ipython3",
   "nbconvert_exporter": "python",
   "file_extension": ".py"
  },
  "kernelspec": {
   "name": "python3",
   "display_name": "Python 3.8.10 64-bit ('jupyter': virtualenv)"
  },
  "interpreter": {
   "hash": "dbc4d67c486c8529ccab8645044d83be214319cefe5619226d22e06c4885e26d"
  }
 },
 "nbformat": 4,
 "nbformat_minor": 2
}