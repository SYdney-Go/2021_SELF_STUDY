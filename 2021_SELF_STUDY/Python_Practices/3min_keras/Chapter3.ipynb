{
 "cells": [
  {
   "cell_type": "markdown",
   "id": "e4835880",
   "metadata": {},
   "source": [
    "# DNN"
   ]
  },
  {
   "cell_type": "markdown",
   "id": "c6c3abe4",
   "metadata": {},
   "source": [
    "##### 필기체를 분류하는 DNN 구현"
   ]
  },
  {
   "cell_type": "code",
   "execution_count": 1,
   "id": "03ffd117",
   "metadata": {},
   "outputs": [],
   "source": [
    "#기본 파라미터 설정\n",
    "\n",
    "Nin = 784\n",
    "Nh_l = [100, 50]\n",
    "number_of_class = 10\n",
    "Nout = number_of_class"
   ]
  },
  {
   "cell_type": "code",
   "execution_count": 5,
   "id": "667744e1",
   "metadata": {},
   "outputs": [],
   "source": [
    "# 분류 DNN 모델 구현\n",
    "from keras import layers, models\n",
    "\n",
    "class DNN(models.Sequential):\n",
    "    def __init__(self, Nin, Nh_l, Nout):\n",
    "        super().__init__()\n",
    "        self.add(layers.Dense(Nh_l[0], activation='relu', input_shape=(Nin, ), name='Hidden-1'))\n",
    "        self.add(layers.Dense(Nh_l[1], activation='relu', name='Hidden-2'))\n",
    "        self.add(layers.Dense(Nout, activation='softmax'))\n",
    "        self.compile(loss='categorical_crossentropy', optimizer='adam', metrics=['accuracy'])"
   ]
  },
  {
   "cell_type": "code",
   "execution_count": 3,
   "id": "b2764564",
   "metadata": {},
   "outputs": [],
   "source": [
    "# 데이터 준비\n",
    "import numpy as np\n",
    "from keras import datasets\n",
    "from keras.utils import np_utils\n",
    "\n",
    "(X_train, y_train), (X_test, y_test) = datasets.mnist.load_data()\n",
    "y_train = np_utils.to_categorical(y_train)\n",
    "y_test = np_utils.to_categorical(y_test)\n",
    "\n",
    "L, W, H = X_train.shape\n",
    "X_train = X_train.reshape(-1, W * H)\n",
    "X_test = X_test.reshape(-1, W * H)\n",
    "\n",
    "X_train = X_train / 255.0\n",
    "X_test = X_test / 255.0"
   ]
  },
  {
   "cell_type": "code",
   "execution_count": 6,
   "id": "94f60e00",
   "metadata": {},
   "outputs": [
    {
     "name": "stdout",
     "output_type": "stream",
     "text": [
      "Epoch 1/10\n",
      "480/480 [==============================] - 3s 6ms/step - loss: 0.3719 - accuracy: 0.8932 - val_loss: 0.1823 - val_accuracy: 0.9490\n",
      "Epoch 2/10\n",
      "480/480 [==============================] - 2s 5ms/step - loss: 0.1566 - accuracy: 0.9540 - val_loss: 0.1373 - val_accuracy: 0.9607\n",
      "Epoch 3/10\n",
      "480/480 [==============================] - 2s 5ms/step - loss: 0.1121 - accuracy: 0.9679 - val_loss: 0.1216 - val_accuracy: 0.9653\n",
      "Epoch 4/10\n",
      "480/480 [==============================] - 2s 5ms/step - loss: 0.0873 - accuracy: 0.9736 - val_loss: 0.1095 - val_accuracy: 0.9659\n",
      "Epoch 5/10\n",
      "480/480 [==============================] - 2s 5ms/step - loss: 0.0678 - accuracy: 0.9794 - val_loss: 0.1015 - val_accuracy: 0.9703\n",
      "Epoch 6/10\n",
      "480/480 [==============================] - 2s 5ms/step - loss: 0.0565 - accuracy: 0.9830 - val_loss: 0.0966 - val_accuracy: 0.9705\n",
      "Epoch 7/10\n",
      "480/480 [==============================] - 2s 5ms/step - loss: 0.0469 - accuracy: 0.9858 - val_loss: 0.0910 - val_accuracy: 0.9728\n",
      "Epoch 8/10\n",
      "480/480 [==============================] - 2s 5ms/step - loss: 0.0400 - accuracy: 0.9884 - val_loss: 0.1087 - val_accuracy: 0.9678\n",
      "Epoch 9/10\n",
      "480/480 [==============================] - 2s 5ms/step - loss: 0.0329 - accuracy: 0.9902 - val_loss: 0.0967 - val_accuracy: 0.9718\n",
      "Epoch 10/10\n",
      "480/480 [==============================] - 2s 5ms/step - loss: 0.0265 - accuracy: 0.9919 - val_loss: 0.1004 - val_accuracy: 0.9721\n",
      "100/100 [==============================] - 0s 3ms/step - loss: 0.0926 - accuracy: 0.9729\n",
      "Test Loss and Accuracy :  [0.09257343411445618, 0.9728999733924866]\n"
     ]
    }
   ],
   "source": [
    "# 분류 DNN 학습 및 성능 평가\n",
    "\n",
    "model = DNN(Nin, Nh_l, Nout)\n",
    "history = model.fit(X_train, y_train, epochs=10, batch_size=100, validation_split=0.2)\n",
    "performace_test = model.evaluate(X_test, y_test, batch_size=100)\n",
    "print('Test Loss and Accuracy : ', performace_test)"
   ]
  },
  {
   "cell_type": "markdown",
   "id": "7bf5ec2d",
   "metadata": {},
   "source": [
    "##### 컬러 이미지를 분류하는 DNN 구현"
   ]
  },
  {
   "cell_type": "code",
   "execution_count": 14,
   "id": "21a9548f",
   "metadata": {},
   "outputs": [],
   "source": [
    "# 데이터 불러오기\n",
    "import numpy as np\n",
    "from keras import datasets\n",
    "from keras.utils import np_utils\n",
    "\n",
    "def Data_func():\n",
    "    (X_train, y_train), (X_test, y_test) = datasets.cifar10.load_data()\n",
    "    \n",
    "    Y_train = np_utils.to_categorical(y_train)\n",
    "    Y_test = np_utils.to_categorical(y_test)\n",
    "    \n",
    "    L, W, H, C = X_train.shape\n",
    "    X_train = X_train.reshape(-1, W * H * C)\n",
    "    X_test = X_test.reshape(-1, W * H * C)\n",
    "    \n",
    "    X_train = X_train / 255.0\n",
    "    X_test = X_test / 255.0\n",
    "    \n",
    "    return (X_train, Y_train), (X_test, Y_test)"
   ]
  },
  {
   "cell_type": "code",
   "execution_count": 15,
   "id": "e0812acd",
   "metadata": {},
   "outputs": [],
   "source": [
    "# DNN 모델링\n",
    "from keras import layers, models\n",
    "\n",
    "class DNN(models.Sequential):\n",
    "    def __init__(self, Nin, Nh_l, Pd_l, Nout):\n",
    "        super().__init__()\n",
    "        self.add(layers.Dense(Nh_l[0], activation='relu', input_shape=(Nin, ), name = 'Hidden-1'))\n",
    "        self.add(layers.Dropout(Pd_l[0]))\n",
    "        self.add(layers.Dense(Nh_l[1], activation='relu', name='Hidden-2'))\n",
    "        self.add(layers.Dropout(Pd_l[1]))\n",
    "        self.add(layers.Dense(Nout, activation='softmax'))\n",
    "        self.compile(loss='categorical_crossentropy', optimizer='adam', metrics=['accuracy'])"
   ]
  },
  {
   "cell_type": "code",
   "execution_count": 16,
   "id": "ee42e715",
   "metadata": {},
   "outputs": [],
   "source": [
    "# 학습 효과 분석\n",
    "import matplotlib.pyplot as plt\n",
    "\n",
    "def plot_acc(history):\n",
    "    plt.plot(history.history['accuracy'])\n",
    "    plt.plot(history.history['val_accuracy'])\n",
    "    plt.title('Model accuracy')\n",
    "    plt.xlabel('Accuracy')\n",
    "    plt.xlabel('Epoch')\n",
    "    plt.legend(['Train', 'Test'], loc = 0)\n",
    "    \n",
    "def plot_loss(history):\n",
    "    plt.plot(history.history['loss'])\n",
    "    plt.plot(history.history['val_loss'])\n",
    "    plt.title('Model Loss')\n",
    "    plt.xlabel('Loss')\n",
    "    plt.xlabel('Epoch')\n",
    "    plt.legend(['Train', 'Test'], loc = 0)"
   ]
  },
  {
   "cell_type": "code",
   "execution_count": 19,
   "id": "655d4001",
   "metadata": {},
   "outputs": [],
   "source": [
    "# 학습 및 성능 평가\n",
    "def main():\n",
    "    Nh_l = [100, 50]\n",
    "    Pd_l = [0.02, 0.5] # 각 드롭 아웃의 확률\n",
    "    number_of_class = 10\n",
    "    Nout = number_of_class\n",
    "    \n",
    "    (X_train, Y_train), (X_test, Y_test) = Data_func()\n",
    "    model = DNN(X_train.shape[1], Nh_l, Pd_l, Nout)\n",
    "    history = model.fit(X_train, Y_train, epochs=10, batch_size = 100, validation_split = 0.2)\n",
    "    \n",
    "    performace_test = model.evaluate(X_test, Y_test, batch_size = 100)\n",
    "    print('Test Loss and Accuracy : ', performace_test)\n",
    "    \n",
    "    plot_acc(history)\n",
    "    plt.show()\n",
    "    plot_loss(history)\n",
    "    plt.show()"
   ]
  },
  {
   "cell_type": "code",
   "execution_count": 20,
   "id": "e06271fd",
   "metadata": {},
   "outputs": [
    {
     "name": "stdout",
     "output_type": "stream",
     "text": [
      "Epoch 1/10\n",
      "400/400 [==============================] - 13s 32ms/step - loss: 2.0975 - accuracy: 0.2266 - val_loss: 1.8976 - val_accuracy: 0.3275\n",
      "Epoch 2/10\n",
      "400/400 [==============================] - 12s 29ms/step - loss: 1.9393 - accuracy: 0.2969 - val_loss: 1.8262 - val_accuracy: 0.3409\n",
      "Epoch 3/10\n",
      "400/400 [==============================] - 12s 30ms/step - loss: 1.8652 - accuracy: 0.3288 - val_loss: 1.8193 - val_accuracy: 0.3500\n",
      "Epoch 4/10\n",
      "400/400 [==============================] - 12s 29ms/step - loss: 1.8265 - accuracy: 0.3466 - val_loss: 1.7446 - val_accuracy: 0.3749\n",
      "Epoch 5/10\n",
      "400/400 [==============================] - 12s 29ms/step - loss: 1.7998 - accuracy: 0.3569 - val_loss: 1.7305 - val_accuracy: 0.3934TA: 4s - loss: 1.7949 - accuracy: 0. -\n",
      "Epoch 6/10\n",
      "400/400 [==============================] - 13s 32ms/step - loss: 1.7799 - accuracy: 0.3686 - val_loss: 1.6923 - val_accuracy: 0.4000 - loss: 1.7838 - accu - ETA - ETA: 3s - loss: 1.7797  - ETA: 3s - l - ETA: 2s - loss: 1.7774 - accuracy - ETA: 2s - loss: 1.7 - ETA: 0s - loss: 1.7803 - accuracy: 0.\n",
      "Epoch 7/10\n",
      "400/400 [==============================] - 12s 29ms/step - loss: 1.7634 - accuracy: 0.3724 - val_loss: 1.7066 - val_accuracy: 0.3906oss: 1.7633 - accuracy: 0.37\n",
      "Epoch 8/10\n",
      "400/400 [==============================] - 11s 29ms/step - loss: 1.7550 - accuracy: 0.3742 - val_loss: 1.7016 - val_accuracy: 0.3957accuracy - ETA: 6s - l - ETA: 6s - loss: 1.744 - ETA: 5s - los - ETA: 4s - loss: 1.7434 - accuracy: 0. - ETA: 4s - loss: 1.7454 - accu - ETA: 1s -\n",
      "Epoch 9/10\n",
      "400/400 [==============================] - 12s 30ms/step - loss: 1.7357 - accuracy: 0.3858 - val_loss: 1.6787 - val_accuracy: 0.4089\n",
      "Epoch 10/10\n",
      "400/400 [==============================] - 12s 30ms/step - loss: 1.7289 - accuracy: 0.3845 - val_loss: 1.6741 - val_accuracy: 0.4088\n",
      "100/100 [==============================] - 1s 13ms/step - loss: 1.6486 - accuracy: 0.4147\n",
      "Test Loss and Accuracy :  [1.6486198902130127, 0.4147000014781952]\n"
     ]
    },
    {
     "data": {
      "image/png": "[encoded data removed]",
      "text/plain": [
       "<Figure size 432x288 with 1 Axes>"
      ]
     },
     "metadata": {
      "needs_background": "light"
     },
     "output_type": "display_data"
    },
    {
     "data": {
      "image/png": "[encoded data removed]",
      "text/plain": [
       "<Figure size 432x288 with 1 Axes>"
      ]
     },
     "metadata": {
      "needs_background": "light"
     },
     "output_type": "display_data"
    }
   ],
   "source": [
    "if __name__ == '__main__':\n",
    "    main()"
   ]
  },
  {
   "cell_type": "code",
   "execution_count": null,
   "id": "3cb249c5",
   "metadata": {},
   "outputs": [],
   "source": []
  },
  {
   "cell_type": "code",
   "execution_count": null,
   "id": "7a6a356c",
   "metadata": {},
   "outputs": [],
   "source": []
  },
  {
   "cell_type": "code",
   "execution_count": null,
   "id": "b1138601",
   "metadata": {},
   "outputs": [],
   "source": []
  }
 ],
 "metadata": {
  "kernelspec": {
   "display_name": "tensorflow",
   "language": "python",
   "name": "py38tensorflow"
  },
  "language_info": {
   "codemirror_mode": {
    "name": "ipython",
    "version": 3
   },
   "file_extension": ".py",
   "mimetype": "text/x-python",
   "name": "python",
   "nbconvert_exporter": "python",
   "pygments_lexer": "ipython3",
   "version": "3.8.10"
  }
 },
 "nbformat": 4,
 "nbformat_minor": 5
}
