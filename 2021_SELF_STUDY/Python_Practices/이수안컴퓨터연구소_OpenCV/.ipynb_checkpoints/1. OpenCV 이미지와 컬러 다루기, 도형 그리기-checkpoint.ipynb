{
 "cells": [
  {
   "cell_type": "code",
   "execution_count": null,
   "source": [],
   "outputs": [],
   "metadata": {}
  },
  {
   "cell_type": "code",
   "execution_count": null,
   "source": [],
   "outputs": [],
   "metadata": {}
  }
 ],
 "metadata": {
  "language_info": {
   "name": "python"
  }
 },
 "nbformat": 4,
 "nbformat_minor": 5
}