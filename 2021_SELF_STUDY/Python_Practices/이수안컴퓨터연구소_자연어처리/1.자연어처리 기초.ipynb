{
 "cells": [
  {
   "cell_type": "markdown",
   "source": [
    "# 자연어 처리"
   ],
   "metadata": {}
  },
  {
   "cell_type": "markdown",
   "source": [
    "## 1. 기본 텍스트 처리"
   ],
   "metadata": {}
  },
  {
   "cell_type": "code",
   "execution_count": 6,
   "source": [
    "s = 'No pain no gain'\n",
    "\n",
    "# in으로 문장 내에 특정 단어가 있는지 여부를 파악할 수 있다.\n",
    "print('pain' in s)\n",
    "\n",
    "# split으로 특정 문자열로 문장 성분을 나눌 수 있다. → 결과는 리스트로 반환\n",
    "print(s.split())\n",
    "\n",
    "# index로 특정 문자열의 위치를 반환할 수 있다.\n",
    "print(s.split().index('gain'))\n",
    "\n",
    "# slicing을 이용하여 문장 내 특정 문자를 인덱스를 이용하여 뽑아 올 수 있다.\n",
    "print(s[-4:])\n",
    "\n",
    "# 이미 잘린 split 덩어리도 인덱스로 반환이 가능하다\n",
    "print(s.split()[1])\n",
    "\n",
    "# 혹은 이렇게 얻어온 문자열을 슬라이싱을 이용하여 거꾸로 뒤집은 결과를 반환할 수도 있다.\n",
    "print(s.split()[2][::-1])"
   ],
   "outputs": [
    {
     "output_type": "stream",
     "name": "stdout",
     "text": [
      "True\n",
      "['No', 'pain', 'no', 'gain']\n",
      "3\n",
      "gain\n",
      "pain\n",
      "on\n"
     ]
    }
   ],
   "metadata": {}
  },
  {
   "cell_type": "code",
   "execution_count": 9,
   "source": [
    "s = '마찬가지로 한국어도 같은 방법으로 처리가 가능하다.'\n",
    "\n",
    "# in\n",
    "print('처리' in s)\n",
    "\n",
    "# split\n",
    "print(s.split())\n",
    "\n",
    "# split + index\n",
    "print(s.split()[0])"
   ],
   "outputs": [
    {
     "output_type": "stream",
     "name": "stdout",
     "text": [
      "True\n",
      "['마찬가지로', '한국어도', '같은', '방법으로', '처리가', '가능하다.']\n",
      "마찬가지로\n"
     ]
    }
   ],
   "metadata": {}
  },
  {
   "cell_type": "markdown",
   "source": [
    "## 2. 영어 처리"
   ],
   "metadata": {}
  },
  {
   "cell_type": "code",
   "execution_count": 10,
   "source": [
    "# 대소문자 통합\n",
    "s = 'AbCdEfGh'\n",
    "\n",
    "# lower: 소문자로 변환\n",
    "str_lower = s.lower()\n",
    "print(str_lower)\n",
    "\n",
    "# upper: 대문자로 변환\n",
    "str_upper = s.upper()\n",
    "print(str_upper)"
   ],
   "outputs": [
    {
     "output_type": "stream",
     "name": "stdout",
     "text": [
      "abcdefgh\n",
      "ABCDEFGH\n"
     ]
    }
   ],
   "metadata": {}
  },
  {
   "cell_type": "code",
   "execution_count": 12,
   "source": [
    "# 정규화\n",
    "s = \"I visited UK from US on 22-09-20\"\n",
    "print(s)\n",
    "\n",
    "new_s = s.replace(\"UK\", \"United Kingdom\").replace(\"US\", \"United States\").replace(\"-20\", \"-2020\")\n",
    "print(new_s) "
   ],
   "outputs": [
    {
     "output_type": "stream",
     "name": "stdout",
     "text": [
      "I visited UK from US on 22-09-20\n",
      "I visited United Kingdom from United States on 22-09-2020\n"
     ]
    }
   ],
   "metadata": {}
  },
  {
   "cell_type": "code",
   "execution_count": 13,
   "source": [
    "# match : 문자열이 정규 표현식과 맞는지 검사\n",
    "import re\n",
    "check = 'ab.'\n",
    "\n",
    "print(re.match(check, 'abc'))\n",
    "print(re.match(check, 'c'))\n",
    "print(re.match(check, 'ab'))"
   ],
   "outputs": [
    {
     "output_type": "stream",
     "name": "stdout",
     "text": [
      "<re.Match object; span=(0, 3), match='abc'>\n",
      "None\n",
      "None\n"
     ]
    }
   ],
   "metadata": {}
  },
  {
   "cell_type": "code",
   "execution_count": null,
   "source": [],
   "outputs": [],
   "metadata": {}
  },
  {
   "cell_type": "markdown",
   "source": [
    "## 3. 한국어 처리"
   ],
   "metadata": {}
  },
  {
   "cell_type": "markdown",
   "source": [
    "## 4. 문장내 빈도 처리"
   ],
   "metadata": {}
  }
 ],
 "metadata": {
  "orig_nbformat": 4,
  "language_info": {
   "name": "python",
   "version": "3.8.10",
   "mimetype": "text/x-python",
   "codemirror_mode": {
    "name": "ipython",
    "version": 3
   },
   "pygments_lexer": "ipython3",
   "nbconvert_exporter": "python",
   "file_extension": ".py"
  },
  "kernelspec": {
   "name": "python3",
   "display_name": "Python 3.8.10 64-bit ('jupyter': virtualenv)"
  },
  "interpreter": {
   "hash": "dbc4d67c486c8529ccab8645044d83be214319cefe5619226d22e06c4885e26d"
  }
 },
 "nbformat": 4,
 "nbformat_minor": 2
}