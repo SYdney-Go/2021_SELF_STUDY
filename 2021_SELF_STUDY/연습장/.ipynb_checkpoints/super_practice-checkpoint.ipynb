{
 "cells": [
  {
   "cell_type": "markdown",
   "id": "db0ad5f9",
   "metadata": {},
   "source": [
    "dddd"
   ]
  },
  {
   "cell_type": "code",
   "execution_count": 6,
   "id": "8a1902bd",
   "metadata": {},
   "outputs": [
    {
     "name": "stdout",
     "output_type": "stream",
     "text": [
      "아빠\n",
      "엄마\n",
      "아들\n",
      "잘생겼다\n",
      "이쁘다\n",
      "뚱뚱하다\n"
     ]
    }
   ],
   "source": [
    "class Family():\n",
    "    def father(self):\n",
    "        print('아빠')\n",
    "    def mother(self):\n",
    "        print('엄마')\n",
    "    def son(self):\n",
    "        print('아들')\n",
    "        \n",
    "class Face():\n",
    "    def handsom(self):\n",
    "        print('잘생겼다')\n",
    "    def pretty(self):\n",
    "        print('이쁘다')\n",
    "    def fat(self):\n",
    "        print('뚱뚱하다')\n",
    "        \n",
    "        \n",
    "we = Family()\n",
    "we.father()\n",
    "we.mother()\n",
    "we.son()\n",
    "\n",
    "depiction = Face()\n",
    "depiction.handsom()\n",
    "depiction.pretty()\n",
    "depiction.fat()"
   ]
  },
  {
   "cell_type": "code",
   "execution_count": null,
   "id": "087c7b98",
   "metadata": {},
   "outputs": [],
   "source": []
  },
  {
   "cell_type": "code",
   "execution_count": null,
   "id": "df8832b5",
   "metadata": {},
   "outputs": [],
   "source": []
  },
  {
   "cell_type": "code",
   "execution_count": null,
   "id": "c027a45d",
   "metadata": {},
   "outputs": [],
   "source": []
  },
  {
   "cell_type": "code",
   "execution_count": null,
   "id": "366184d9",
   "metadata": {},
   "outputs": [],
   "source": []
  },
  {
   "cell_type": "code",
   "execution_count": 4,
   "id": "0fd8a383",
   "metadata": {},
   "outputs": [
    {
     "name": "stdout",
     "output_type": "stream",
     "text": [
      "This is Parent's p1\n",
      "This is Parent's p2\n",
      "This is Child's c1\n",
      "This is Child's c2\n",
      "This is Child's c3\n"
     ]
    }
   ],
   "source": [
    "class Parent:\n",
    "    def __init__(self, p1, p2):\n",
    "        self.p1 = p1\n",
    "        self.p2 = p2\n",
    "        \n",
    "class Child(Parent): # 위의 Parent 클래스 상속 = Parent 클래스 메서드(클래스 안의 함수) 가져오기\n",
    "    def __init__(self, c1, **kwargs):\n",
    "        # super = 이걸 안쓰면 Parent에도 똑같은 __init__메서드가 있어서 오버라이딩 된다.\n",
    "        super(Child, self).__init__(**kwargs)\n",
    "        self.c1 = c1\n",
    "        self.c2 = \"This is Child's c2\"\n",
    "        self.c3 = \"This is Child's c3\"\n",
    "    \n",
    "child = Child(p1 = \"This is Parent's p1\",\n",
    "             p2 = \"This is Parent's p2\",\n",
    "             c1 = \"This is Child's c1\")\n",
    "\n",
    "print(child.p1)\n",
    "print(child.p2)\n",
    "print(child.c1)\n",
    "print(child.c2)\n",
    "print(child.c3)"
   ]
  },
  {
   "cell_type": "markdown",
   "id": "d1271e4a",
   "metadata": {},
   "source": [
    "### 예제"
   ]
  },
  {
   "cell_type": "code",
   "execution_count": null,
   "id": "b304475d",
   "metadata": {},
   "outputs": [],
   "source": [
    "class father():\n",
    "    def handsom(self):\n",
    "        print('잘생겼다')\n",
    "        \n",
    "class brother(father):\n",
    "    '''아들'''\n",
    "    \n",
    "class sister(father):\n",
    "    def pretty(self):\n",
    "        print('예쁘다')\n",
    "        \n",
    "    def handsom(self):\n",
    "        print('잘생겼다')\n",
    "        \n",
    "brother"
   ]
  }
 ],
 "metadata": {
  "kernelspec": {
   "display_name": "tensorflow",
   "language": "python",
   "name": "py38tensorflow"
  },
  "language_info": {
   "codemirror_mode": {
    "name": "ipython",
    "version": 3
   },
   "file_extension": ".py",
   "mimetype": "text/x-python",
   "name": "python",
   "nbconvert_exporter": "python",
   "pygments_lexer": "ipython3",
   "version": "3.8.10"
  }
 },
 "nbformat": 4,
 "nbformat_minor": 5
}
