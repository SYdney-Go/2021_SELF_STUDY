{
 "cells": [
  {
   "cell_type": "code",
   "execution_count": 1,
   "id": "a69631dd",
   "metadata": {},
   "outputs": [
    {
     "name": "stdout",
     "output_type": "stream",
     "text": [
      "아빠\n",
      "엄마\n",
      "아들\n",
      "잘생겼다\n",
      "이쁘다\n",
      "뚱뚱하다\n"
     ]
    }
   ],
   "source": [
    "class Family():\n",
    "    def father(self):\n",
    "        print('아빠')\n",
    "    def mother(self):\n",
    "        print('엄마')\n",
    "    def son(self):\n",
    "        print('아들')\n",
    "        \n",
    "class Face():\n",
    "    def handsom(self):\n",
    "        print('잘생겼다')\n",
    "    def pretty(self):\n",
    "        print('이쁘다')\n",
    "    def fat(self):\n",
    "        print('뚱뚱하다')\n",
    "        \n",
    "        \n",
    "we = Family()\n",
    "we.father()\n",
    "we.mother()\n",
    "we.son()\n",
    "\n",
    "depiction = Face()\n",
    "depiction.handsom()\n",
    "depiction.pretty()\n",
    "depiction.fat()"
   ]
  },
  {
   "cell_type": "code",
   "execution_count": 2,
   "id": "5ff3e306",
   "metadata": {},
   "outputs": [
    {
     "name": "stdout",
     "output_type": "stream",
     "text": [
      "아빠\n",
      "엄마\n",
      "아들\n",
      "잘생겼다\n",
      "예쁘다\n",
      "뚱뚱하다\n"
     ]
    }
   ],
   "source": [
    "### 상속\n",
    "\n",
    "class introduce():\n",
    "    def father(self):\n",
    "        print('아빠')\n",
    "        \n",
    "    def handsom(self):\n",
    "        print('잘생겼다')\n",
    "        \n",
    "class Family(introduce): # introduction의 father와 handsom 기능 상속\n",
    "    def mother(self):\n",
    "        print(\"엄마\")\n",
    "    \n",
    "    def son(self):\n",
    "        print(\"아들\")\n",
    "    \n",
    "class Face(introduce):# introduction의 father와 handsom 기능 상속\n",
    "    def pretty(self):\n",
    "        print('예쁘다')\n",
    "        \n",
    "    def fat(self):\n",
    "        print(\"뚱뚱하다\")\n",
    "        \n",
    "\n",
    "we = Family()\n",
    "we.father()\n",
    "we.mother()\n",
    "we.son()\n",
    "\n",
    "depiction = Face()\n",
    "depiction.handsom()\n",
    "depiction.pretty()\n",
    "depiction.fat()"
   ]
  },
  {
   "cell_type": "code",
   "execution_count": 3,
   "id": "a23f2085",
   "metadata": {},
   "outputs": [
    {
     "name": "stdout",
     "output_type": "stream",
     "text": [
      "잘생겼다\n",
      "예쁘다\n"
     ]
    }
   ],
   "source": [
    "### 오버라이드 : 부모와 자식이 같은 이름의 메소드를 가지고 있으면 어떻게 될까?? → 자식이기는 부모 없다!\n",
    "\n",
    "class father():\n",
    "    def handsom(self):\n",
    "        print('잘생겼다')\n",
    "\n",
    "class brother(father): # father의 handsom 상속\n",
    "    '''아들''' # ''' ''' = pass\n",
    "    \n",
    "class sister(father): # father의 handsom 상속\n",
    "    def pretty(self):\n",
    "        print('예쁘다')\n",
    "    def handsom(self):# father의 handsom  vs sister의 handsom → 자기것을 먼저 사용한다.\n",
    "        self.pretty()\n",
    "        \n",
    "brother = brother()\n",
    "brother.handsom()\n",
    "\n",
    "girl = sister()\n",
    "girl.handsom()"
   ]
  },
  {
   "cell_type": "code",
   "execution_count": 4,
   "id": "fe3ff67e",
   "metadata": {},
   "outputs": [
    {
     "name": "stdout",
     "output_type": "stream",
     "text": [
      "안녕하세요. 저는 학생입니다.\n"
     ]
    }
   ],
   "source": [
    "# 오버라이딩 이해가 부족한가...ㅠ\n",
    "class Person:\n",
    "    def greeting(self):\n",
    "        print('안녕하세요')\n",
    "        \n",
    "class Student(Person): # Person의 greeting 상속받음\n",
    "    def greeting(self): # Person greeting vs Student greeting → 같은 이름의 메서드가 있을때 기반 매서드 대신 새로운 메서드를 만들어 사용한다.\n",
    "        print('안녕하세요. 저는 학생입니다.')\n",
    "        \n",
    "james = Student()\n",
    "james.greeting()"
   ]
  },
  {
   "cell_type": "code",
   "execution_count": 5,
   "id": "973d838c",
   "metadata": {},
   "outputs": [
    {
     "name": "stdout",
     "output_type": "stream",
     "text": [
      "안녕하세요\n",
      "저는 학생입니다.\n"
     ]
    }
   ],
   "source": [
    "class Person:\n",
    "    def greeting(self):\n",
    "        print('안녕하세요')\n",
    "        \n",
    "class Student(Person): # Person의 greeting 상속받음\n",
    "    def greeting(self):\n",
    "        super().greeting()\n",
    "        print('저는 학생입니다.')\n",
    "        \n",
    "james = Student()\n",
    "james.greeting()"
   ]
  },
  {
   "cell_type": "code",
   "execution_count": 12,
   "id": "69afe959",
   "metadata": {},
   "outputs": [
    {
     "name": "stdout",
     "output_type": "stream",
     "text": [
      "잘생겼다\n",
      "예쁘다\n"
     ]
    }
   ],
   "source": [
    "### super : 그래도 부모님 기능도 쓰고 싶어\n",
    "\n",
    "class father():\n",
    "    def handsome(self):\n",
    "        print('잘생겼다')\n",
    "        \n",
    "class brother(father): # father의 handsome 기능 상속\n",
    "    '''아들'''\n",
    "    \n",
    "class sister(father):# father의 handsome 기능 상속\n",
    "    def pretty(self):\n",
    "        print('예쁘다')\n",
    "        \n",
    "    def handsome(self):\n",
    "        '''물려 받았어요'''\n",
    "        \n",
    "brother = brother()\n",
    "brother.handsome()\n",
    "\n",
    "girl = sister()\n",
    "girl.handsome() # 너 왜 작동 안해..? → overring 때문이라는데 왜지... 딸이 이미 pretty를 가지고 있어서?\n",
    "girl.pretty()"
   ]
  },
  {
   "cell_type": "code",
   "execution_count": 7,
   "id": "4b4475df",
   "metadata": {},
   "outputs": [
    {
     "name": "stdout",
     "output_type": "stream",
     "text": [
      "잘생겼다\n",
      "잘생겼다\n",
      "예쁘다\n"
     ]
    }
   ],
   "source": [
    "### super로 작동을 하게 만들어보자. \n",
    "### super : 그래도 부모님 기능도 쓰고 싶어\n",
    "\n",
    "class father():\n",
    "    def handsom(self):\n",
    "        print('잘생겼다')\n",
    "        \n",
    "class brother(father): # father의 handsom 기능 상속\n",
    "    '''아들'''\n",
    "    \n",
    "class sister(father):# father의 handsom 기능 상속\n",
    "    def pretty(self):\n",
    "        print('예쁘다')\n",
    "        \n",
    "    def handsom(self): # father의 handsom이 강하게 작동\n",
    "        super().handsom()\n",
    "        \n",
    "brother = brother()\n",
    "brother.handsom()\n",
    "\n",
    "girl = sister()\n",
    "girl.handsom() # super를 사용했기 때문의 부모의 handsom method를 사용할 수 있다\n",
    "girl.pretty()"
   ]
  },
  {
   "cell_type": "code",
   "execution_count": 8,
   "id": "299b7d44",
   "metadata": {},
   "outputs": [
    {
     "name": "stdout",
     "output_type": "stream",
     "text": [
      "아빠를 닮아 잘생겼다\n",
      "얼굴 말이야\n"
     ]
    }
   ],
   "source": [
    "class father():\n",
    "    def __init__(self, who): # who를 정의\n",
    "        self.who = who\n",
    "        \n",
    "    def handsome(self):\n",
    "        print(\"{}를 닮아 잘생겼다\".format(self.who)) # 위에서 입력된 who를 받은 handsome을 출력\n",
    "        \n",
    "class sister(father): # father의 init과 handsome을 상속\n",
    "    def __init__(self, who, where):\n",
    "        super().__init__(who) # super때문에 father의 init의 who를 상속\n",
    "        self.where = where\n",
    "        \n",
    "    def choice(self):\n",
    "        print(\"{} 말이야\".format(self.where)) # where은 자식의 where를 사용\n",
    "        \n",
    "    def handsome(self):\n",
    "        super().handsome() # father의 handsome을 불러와서 사용\n",
    "        self.choice() # sister의 choice를 사용\n",
    "        \n",
    "girl = sister(\"아빠\", \"얼굴\")\n",
    "girl.handsome()\n",
    "\n",
    "# 호출 순서\n",
    "# 1. sister의 handsome 호출\n",
    "# 2. sister의 __init__작동\n",
    "# 3-1. sister __init__의 super로 father의 __init__ 호출 → sister의 who를 father의 who가 전달 받음\n",
    "# 3-2. sister의 handsome 작동 → father의 handsome 작동 + sister의 who 인자 → 결과 출력\n",
    "# 4. sister의 __init__ where 인자를 choice에 전달\n",
    "# 5. sister의 choice 작동 = sister의 where 전달 받음 → 결과 출력"
   ]
  },
  {
   "cell_type": "code",
   "execution_count": 9,
   "id": "5e74c333",
   "metadata": {},
   "outputs": [
    {
     "name": "stdout",
     "output_type": "stream",
     "text": [
      "This is Parent's p1\n",
      "This is Parent's p2\n",
      "This is Child's c1\n",
      "This is Child's c2\n",
      "This is Child's c3\n"
     ]
    }
   ],
   "source": [
    "class Parent:\n",
    "    def __init__(self, p1, p2):\n",
    "        self.p1 = p1\n",
    "        self.p2 = p2\n",
    "        \n",
    "class Child(Parent): # 위의 Parent 클래스 상속 = Parent 클래스 메서드(클래스 안의 함수) 가져오기\n",
    "    def __init__(self, c1, **kwargs):\n",
    "        # super = 이걸 안쓰면 Parent에도 똑같은 __init__메서드가 있어서 오버라이딩 된다.\n",
    "        super(Child, self).__init__(**kwargs)\n",
    "        self.c1 = c1\n",
    "        self.c2 = \"This is Child's c2\"\n",
    "        self.c3 = \"This is Child's c3\"\n",
    "    \n",
    "child = Child(p1 = \"This is Parent's p1\",\n",
    "             p2 = \"This is Parent's p2\",\n",
    "             c1 = \"This is Child's c1\")\n",
    "\n",
    "print(child.p1)\n",
    "print(child.p2)\n",
    "print(child.c1)\n",
    "print(child.c2)\n",
    "print(child.c3)"
   ]
  }
 ],
 "metadata": {
  "kernelspec": {
   "display_name": "tensorflow",
   "language": "python",
   "name": "py38tensorflow"
  },
  "language_info": {
   "codemirror_mode": {
    "name": "ipython",
    "version": 3
   },
   "file_extension": ".py",
   "mimetype": "text/x-python",
   "name": "python",
   "nbconvert_exporter": "python",
   "pygments_lexer": "ipython3",
   "version": "3.8.10"
  }
 },
 "nbformat": 4,
 "nbformat_minor": 5
}
