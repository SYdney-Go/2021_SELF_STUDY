{
 "cells": [
  {
   "cell_type": "code",
   "execution_count": null,
   "id": "2a0aede5",
   "metadata": {},
   "outputs": [],
   "source": [
    "class Family():\n",
    "    def father(self):\n",
    "        print('아빠')\n",
    "    def mother(self):\n",
    "        print('엄마')\n",
    "    def son(self):\n",
    "        print('아들')\n",
    "        \n",
    "class Face():\n",
    "    def handsom(self):\n",
    "        print('잘생겼다')\n",
    "    def pretty(self):\n",
    "        print('이쁘다')\n",
    "    def fat(self):\n",
    "        print('뚱뚱하다')\n",
    "        \n",
    "        \n",
    "we = Family()\n",
    "we.father()\n",
    "we.mother()\n",
    "we.son()\n",
    "\n",
    "depiction = Face()\n",
    "depiction.handsom()\n",
    "depiction.pretty()\n",
    "depiction.fat()"
   ]
  },
  {
   "cell_type": "code",
   "execution_count": null,
   "id": "d6e56422",
   "metadata": {},
   "outputs": [],
   "source": [
    "### 상속\n",
    "\n",
    "class introduce():\n",
    "    def father(self):\n",
    "        print('아빠')\n",
    "        \n",
    "    def handsom(self):\n",
    "        print('잘생겼다')\n",
    "        \n",
    "class Family(introduce): # introduction의 father와 handsom 기능 상속\n",
    "    def mother(self):\n",
    "        print(\"엄마\")\n",
    "    \n",
    "    def son(self):\n",
    "        print(\"아들\")\n",
    "    \n",
    "class Face(introduce):# introduction의 father와 handsom 기능 상속\n",
    "    def pretty(self):\n",
    "        print('예쁘다')\n",
    "        \n",
    "    def fat(self):\n",
    "        print(\"뚱뚱하다\")\n",
    "        \n",
    "\n",
    "we = Family()\n",
    "we.father()\n",
    "we.mother()\n",
    "we.son()\n",
    "\n",
    "depiction = Face()\n",
    "depiction.handsom()\n",
    "depiction.pretty()\n",
    "depiction.fat()"
   ]
  },
  {
   "cell_type": "code",
   "execution_count": null,
   "id": "4cb9edb2",
   "metadata": {},
   "outputs": [],
   "source": [
    "### 오버라이드 : 부모와 자식이 같은 이름의 메소드를 가지고 있으면 어떻게 될까?? → 자식이기는 부모 없다!\n",
    "\n",
    "class father():\n",
    "    def handsom(self):\n",
    "        print('잘생겼다')\n",
    "\n",
    "class brother(father): # father의 handsom 상속\n",
    "    '''아들'''\n",
    "    \n",
    "class sister(father): # father의 handsom 상속\n",
    "    def pretty(self):\n",
    "        print('예쁘다')\n",
    "    def handsom(self):# father의 handsom  vs sister의 handsom → 자기것을 먼저 사용한다.\n",
    "        self.pretty()\n",
    "        \n",
    "brother = brother()\n",
    "brother.handsom()\n",
    "\n",
    "girl = sister()\n",
    "girl.handsom()"
   ]
  },
  {
   "cell_type": "code",
   "execution_count": 7,
   "id": "e0016f59",
   "metadata": {},
   "outputs": [
    {
     "name": "stdout",
     "output_type": "stream",
     "text": [
      "잘생겼다\n"
     ]
    }
   ],
   "source": [
    "### super : 그래도 부모님 기능도 쓰고 싶어\n",
    "\n",
    "class father():\n",
    "    def handsom(self):\n",
    "        print('잘생겼다')\n",
    "        \n",
    "class brother(father): # father의 handsom 기능 상속\n",
    "    '''아들'''\n",
    "    \n",
    "class sister(father):# father의 handsom 기능 상속\n",
    "    def pretty(self):\n",
    "        print('예쁘다')\n",
    "        \n",
    "    def handsom(self):\n",
    "        '''물려 받았어요'''\n",
    "        \n",
    "brother = brother()\n",
    "brother.handsom()\n",
    "\n",
    "girl = sister()\n",
    "girl.handsom() # 너 왜 작동 안해..? → overring 때문이라는데 왜지... 딸이 이미 pretty를 가지고 있어서?\n",
    "girl.pretty()"
   ]
  },
  {
   "cell_type": "code",
   "execution_count": 4,
   "id": "52c86563",
   "metadata": {},
   "outputs": [
    {
     "name": "stdout",
     "output_type": "stream",
     "text": [
      "잘생겼다\n",
      "잘생겼다\n",
      "예쁘다\n"
     ]
    }
   ],
   "source": [
    "### super로 작동을 하게 만들어보자. \n",
    "### super : 그래도 부모님 기능도 쓰고 싶어\n",
    "\n",
    "class father():\n",
    "    def handsom(self):\n",
    "        print('잘생겼다')\n",
    "        \n",
    "class brother(father): # father의 handsom 기능 상속\n",
    "    '''아들'''\n",
    "    \n",
    "class sister(father):# father의 handsom 기능 상속\n",
    "    def pretty(self):\n",
    "        print('예쁘다')\n",
    "        \n",
    "    def handsom(self): # father의 handsom이 강하게 작동\n",
    "        super().handsom()\n",
    "        \n",
    "brother = brother()\n",
    "brother.handsom()\n",
    "\n",
    "girl = sister()\n",
    "girl.handsom() # 너 왜 작동 안해..? → overring 때문이라는데 왜지...\n",
    "girl.pretty()"
   ]
  },
  {
   "cell_type": "code",
   "execution_count": null,
   "id": "0aa5a8c7",
   "metadata": {},
   "outputs": [],
   "source": [
    "class Parent:\n",
    "    def __init__(self, p1, p2):\n",
    "        self.p1 = p1\n",
    "        self.p2 = p2\n",
    "        \n",
    "class Child(Parent): # 위의 Parent 클래스 상속 = Parent 클래스 메서드(클래스 안의 함수) 가져오기\n",
    "    def __init__(self, c1, **kwargs):\n",
    "        # super = 이걸 안쓰면 Parent에도 똑같은 __init__메서드가 있어서 오버라이딩 된다.\n",
    "        super(Child, self).__init__(**kwargs)\n",
    "        self.c1 = c1\n",
    "        self.c2 = \"This is Child's c2\"\n",
    "        self.c3 = \"This is Child's c3\"\n",
    "    \n",
    "child = Child(p1 = \"This is Parent's p1\",\n",
    "             p2 = \"This is Parent's p2\",\n",
    "             c1 = \"This is Child's c1\")\n",
    "\n",
    "print(child.p1)\n",
    "print(child.p2)\n",
    "print(child.c1)\n",
    "print(child.c2)\n",
    "print(child.c3)"
   ]
  },
  {
   "cell_type": "markdown",
   "id": "ea8c6c36",
   "metadata": {},
   "source": [
    "### 예제"
   ]
  },
  {
   "cell_type": "code",
   "execution_count": null,
   "id": "eb577bef",
   "metadata": {},
   "outputs": [],
   "source": [
    "class father():\n",
    "    def handsom(self):\n",
    "        print('잘생겼다')\n",
    "        \n",
    "class brother(father):\n",
    "    '''아들'''\n",
    "    \n",
    "class sister(father):\n",
    "    def pretty(self):\n",
    "        print('예쁘다')\n",
    "        \n",
    "    def handsom(self):\n",
    "        print('잘생겼다')\n",
    "        \n",
    "brother"
   ]
  }
 ],
 "metadata": {
  "kernelspec": {
   "display_name": "tensorflow",
   "language": "python",
   "name": "py38tensorflow"
  },
  "language_info": {
   "codemirror_mode": {
    "name": "ipython",
    "version": 3
   },
   "file_extension": ".py",
   "mimetype": "text/x-python",
   "name": "python",
   "nbconvert_exporter": "python",
   "pygments_lexer": "ipython3",
   "version": "3.8.10"
  }
 },
 "nbformat": 4,
 "nbformat_minor": 5
}
