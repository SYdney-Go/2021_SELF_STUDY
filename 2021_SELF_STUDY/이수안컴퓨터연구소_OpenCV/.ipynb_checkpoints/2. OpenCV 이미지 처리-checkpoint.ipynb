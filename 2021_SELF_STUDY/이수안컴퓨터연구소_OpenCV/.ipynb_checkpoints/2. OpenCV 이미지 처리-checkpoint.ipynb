{
 "cells": [
  {
   "cell_type": "code",
   "execution_count": 1,
   "id": "f3fc7c61",
   "metadata": {},
   "outputs": [],
   "source": [
    "import numpy as np\n",
    "import cv2\n",
    "import matplotlib.pyplot as plt"
   ]
  },
  {
   "cell_type": "markdown",
   "id": "edc49bd0",
   "metadata": {},
   "source": [
    "### resize\n",
    "* 크기 줄일때 : INTER_AREA\n",
    "* 크기 늘릴때 : INTER_CUBIC, INTER_LINEAR"
   ]
  },
  {
   "cell_type": "code",
   "execution_count": 2,
   "id": "c865bfc2",
   "metadata": {},
   "outputs": [
    {
     "name": "stdout",
     "output_type": "stream",
     "text": [
      "(495, 743, 3)\n"
     ]
    }
   ],
   "source": [
    "image = cv2.imread('../Python + OpenCV/picture/moon.jpg')\n",
    "print(image.shape)"
   ]
  },
  {
   "cell_type": "code",
   "execution_count": 4,
   "id": "9fb0059a",
   "metadata": {},
   "outputs": [],
   "source": [
    "cv2.imshow('title', image)\n",
    "cv2.waitKey(0)\n",
    "cv2.destroyAllWindows()"
   ]
  },
  {
   "cell_type": "code",
   "execution_count": 5,
   "id": "ca661b2e",
   "metadata": {},
   "outputs": [],
   "source": [
    "height, width = image.shape[:2]"
   ]
  },
  {
   "cell_type": "code",
   "execution_count": 7,
   "id": "bc40b714",
   "metadata": {},
   "outputs": [],
   "source": [
    "shrink = cv2.resize(image, None, fx = 0.5, fy = 0.5, interpolation = cv2.INTER_AREA)\n",
    "\n",
    "expand1 = cv2.resize(image, (width*2, height*2), interpolation=cv2.INTER_CUBIC)\n",
    "\n",
    "expand2 = cv2.resize(image, None, fx = 2, fy = 2, interpolation = cv2.INTER_CUBIC)"
   ]
  },
  {
   "cell_type": "code",
   "execution_count": 9,
   "id": "204dfaf4",
   "metadata": {},
   "outputs": [
    {
     "name": "stdout",
     "output_type": "stream",
     "text": [
      "(248, 372, 3)\n"
     ]
    }
   ],
   "source": [
    "cv2.imshow('shink', shrink)\n",
    "cv2.waitKey(0)\n",
    "cv2.destroyAllWindows()\n",
    "\n",
    "print(shrink.shape)"
   ]
  },
  {
   "cell_type": "code",
   "execution_count": 10,
   "id": "ebbc6843",
   "metadata": {},
   "outputs": [
    {
     "name": "stdout",
     "output_type": "stream",
     "text": [
      "(990, 1486, 3)\n"
     ]
    }
   ],
   "source": [
    "cv2.imshow('expand1', expand1)\n",
    "cv2.waitKey(0)\n",
    "cv2.destroyAllWindows()\n",
    "\n",
    "print(expand1.shape)"
   ]
  },
  {
   "cell_type": "code",
   "execution_count": 12,
   "id": "14b9720f",
   "metadata": {},
   "outputs": [
    {
     "name": "stdout",
     "output_type": "stream",
     "text": [
      "(990, 1486, 3)\n"
     ]
    }
   ],
   "source": [
    "cv2.imshow('expand2', expand2)\n",
    "cv2.waitKey(0)\n",
    "cv2.destroyAllWindows()\n",
    "\n",
    "print(expand2.shape)"
   ]
  },
  {
   "cell_type": "markdown",
   "id": "e9316d7e",
   "metadata": {},
   "source": [
    "### Translation\n",
    "* warpAffine() : 이미지의 위치를 변경"
   ]
  },
  {
   "cell_type": "code",
   "execution_count": 16,
   "id": "ff8bff8c",
   "metadata": {},
   "outputs": [],
   "source": [
    "rows, cols = image.shape[:2]\n",
    "\n",
    "M = np.float32([[1, 0, 10], [0, 1, 20]]) # x축으로는 10, y축으로는 20 이동\n",
    "\n",
    "dst = cv2.warpAffine(image, M, (cols, rows))\n",
    "\n",
    "cv2.imshow('title', dst)\n",
    "cv2.waitKey(0)\n",
    "cv2.destroyAllWindows()"
   ]
  },
  {
   "cell_type": "markdown",
   "id": "1dde6fb6",
   "metadata": {},
   "source": [
    "### Rotate\n",
    "* getRotationMatrix2D(): 사진을 시계 반대방향으로 회전"
   ]
  },
  {
   "cell_type": "code",
   "execution_count": 18,
   "id": "7227d34c",
   "metadata": {},
   "outputs": [
    {
     "name": "stdout",
     "output_type": "stream",
     "text": [
      "(495, 743, 3)\n"
     ]
    }
   ],
   "source": [
    "print(image.shape)"
   ]
  },
  {
   "cell_type": "raw",
   "id": "43dff8f8",
   "metadata": {},
   "source": []
  }
 ],
 "metadata": {
  "kernelspec": {
   "display_name": "tensorflow",
   "language": "python",
   "name": "py38tensorflow"
  },
  "language_info": {
   "codemirror_mode": {
    "name": "ipython",
    "version": 3
   },
   "file_extension": ".py",
   "mimetype": "text/x-python",
   "name": "python",
   "nbconvert_exporter": "python",
   "pygments_lexer": "ipython3",
   "version": "3.8.10"
  }
 },
 "nbformat": 4,
 "nbformat_minor": 5
}
